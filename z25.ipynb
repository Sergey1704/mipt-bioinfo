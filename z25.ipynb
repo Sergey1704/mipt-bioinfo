{
 "cells": [
  {
   "cell_type": "code",
   "execution_count": 1,
   "metadata": {},
   "outputs": [],
   "source": [
    "def get_score(letter1, letter2, letter3): \n",
    "    if letter1 == letter2 and letter2 == letter3:\n",
    "        return 1\n",
    "    else:\n",
    "        return 0"
   ]
  },
  {
   "cell_type": "code",
   "execution_count": 2,
   "metadata": {},
   "outputs": [],
   "source": [
    "def get_alignment(string, direction_str, index):\n",
    "    ds = ''\n",
    "    if index == 'i':\n",
    "        ds = '456'\n",
    "    elif index == 'j':\n",
    "        ds = '236'\n",
    "    elif index == 'k':\n",
    "        ds = '135'\n",
    "    \n",
    "    alignment = ''\n",
    "    i = 0\n",
    "    for d in direction_str:\n",
    "        if d in ds:\n",
    "            alignment += '-'\n",
    "        else:\n",
    "            alignment += string[i]\n",
    "            i += 1\n",
    "    \n",
    "    return alignment"
   ]
  },
  {
   "cell_type": "code",
   "execution_count": 3,
   "metadata": {},
   "outputs": [],
   "source": [
    "filename = 'rosalind_ba5m.txt'"
   ]
  },
  {
   "cell_type": "code",
   "execution_count": 4,
   "metadata": {},
   "outputs": [],
   "source": [
    "with open(filename) as file:\n",
    "    str_i = file.readline().rstrip()\n",
    "    str_j = file.readline().rstrip()\n",
    "    str_k = file.readline().rstrip()"
   ]
  },
  {
   "cell_type": "code",
   "execution_count": 5,
   "metadata": {},
   "outputs": [],
   "source": [
    "n = len(str_i)\n",
    "m = len(str_j)\n",
    "l = len(str_k)\n",
    "path_matrix = [[[0] * (l+1) for j in range(m+1)] for i in range(n+1)]\n",
    "direction_matrix = [[[-1] * (l+1) for j in range(m+1)] for i in range(n+1)]"
   ]
  },
  {
   "cell_type": "code",
   "execution_count": 6,
   "metadata": {},
   "outputs": [],
   "source": [
    "directions = {0: (-1, -1, -1), 1: (-1, -1, 0), 2: (-1, 0, -1), 3: (-1, 0, 0),\n",
    "              4: (0, -1, -1), 5: (0, -1, 0), 6: (0, 0, -1)}\n",
    "\n",
    "for i in range(n+1):\n",
    "    for j in range(m+1):\n",
    "        for k in range(l+1):\n",
    "            if i == 0 and j == 0 and k == 0:\n",
    "                continue\n",
    "            \n",
    "            scores = [float('-inf')] * 7\n",
    "            for d in directions:\n",
    "                ii, jj, kk = i + directions[d][0], j + directions[d][1], k + directions[d][2]\n",
    "                if ii < 0 or jj < 0 or kk < 0:\n",
    "                    continue\n",
    "                if d == 0:\n",
    "                    scores[d] = path_matrix[ii][jj][kk] + get_score(str_i[ii], str_j[jj], str_k[kk])\n",
    "                else:\n",
    "                    scores[d] = path_matrix[ii][jj][kk]\n",
    "            \n",
    "            max_score = float('-inf')\n",
    "            index_max = 0\n",
    "            for index, score in enumerate(scores):\n",
    "                if score > max_score:\n",
    "                    max_score = score\n",
    "                    index_max = index\n",
    "            \n",
    "            path_matrix[i][j][k] = max_score\n",
    "            direction_matrix[i][j][k] = index_max"
   ]
  },
  {
   "cell_type": "code",
   "execution_count": 7,
   "metadata": {},
   "outputs": [],
   "source": [
    "direction_str = ''\n",
    "i, j, k = n, m, l\n",
    "while (i != 0 or j != 0 or k != 0):\n",
    "    d = direction_matrix[i][j][k]\n",
    "    direction_str += str(d)\n",
    "    i, j, k = i + directions[d][0], j + directions[d][1], k + directions[d][2]\n",
    "     \n",
    "direction_str = direction_str[len(direction_str)::-1]"
   ]
  },
  {
   "cell_type": "code",
   "execution_count": 8,
   "metadata": {},
   "outputs": [],
   "source": [
    "score = path_matrix[n][m][l]\n",
    "alignment_i = get_alignment(str_i, direction_str, 'i')\n",
    "alignment_j = get_alignment(str_j, direction_str, 'j')\n",
    "alignment_k = get_alignment(str_k, direction_str, 'k')"
   ]
  },
  {
   "cell_type": "code",
   "execution_count": 9,
   "metadata": {
    "scrolled": false
   },
   "outputs": [
    {
     "name": "stdout",
     "output_type": "stream",
     "text": [
      "11\n",
      "----T--A----AAGGC---TCGTTTGCG-TTCTTTA--A\n",
      "CTTGTGCA----AA--CAGTTCG-CAG-GAGAC---A---\n",
      "--AATGTATGCTAA-AC---ACG--AGCG---C--GACCT\n"
     ]
    }
   ],
   "source": [
    "print(score)\n",
    "print(alignment_i)\n",
    "print(alignment_j)\n",
    "print(alignment_k)"
   ]
  }
 ],
 "metadata": {
  "kernelspec": {
   "display_name": "Python 3",
   "language": "python",
   "name": "python3"
  },
  "language_info": {
   "codemirror_mode": {
    "name": "ipython",
    "version": 3
   },
   "file_extension": ".py",
   "mimetype": "text/x-python",
   "name": "python",
   "nbconvert_exporter": "python",
   "pygments_lexer": "ipython3",
   "version": "3.8.3"
  }
 },
 "nbformat": 4,
 "nbformat_minor": 4
}
