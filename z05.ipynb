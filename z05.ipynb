{
 "cells": [
  {
   "cell_type": "code",
   "execution_count": 76,
   "metadata": {},
   "outputs": [],
   "source": [
    "text = 'TAGAGCATCTAGAGCATCTCGGGCACTAGAGCATCTCGGGCACTATCGAACTAGAGCATCTCGGGCACCATATCCCGTATCGAACCATATCCCGTCGGGCACGTACTACGCATATCCCGGTACTACGCATATCCCGTCGGGCACGTACTACGCATATCCCGTCGGGCACTAGAGCATCTAGAGCATCTAGAGCATCTAGAGCATCTCGGGCACTATCGAACCATATCCCGTCGGGCACTCGGGCACTATCGAACTAGAGCATCCATATCCCGGTACTACGTATCGAACTAGAGCATCTAGAGCATCCATATCCCGTATCGAACTAGAGCATCTCGGGCACTAGAGCATCGTACTACGTAGAGCATCTCGGGCACTATCGAACTAGAGCATCGTACTACGGTACTACGGTACTACGTAGAGCATCTAGAGCATCGTACTACGTATCGAACGTACTACGCATATCCCGCATATCCCGTAGAGCATCGTACTACGTCGGGCACCATATCCCGTAGAGCATCGTACTACGTATCGAACTAGAGCATCGTACTACGGTACTACGTATCGAACTCGGGCACCATATCCCGTAGAGCATCCATATCCCGTCGGGCACTATCGAACTATCGAACTCGGGCACCATATCCCGCATATCCCGCATATCCCGTATCGAACTATCGAACTATCGAACCATATCCCGCATATCCCGTAGAGCATCGTACTACGTCGGGCACTAGAGCATCTATCGAACTAGAGCATCTCGGGCACTAGAGCATCTCGGGCACTCGGGCACTCGGGCACTATCGAACCATATCCCGGTACTACGCATATCCCGTATCGAAC'\n",
    "k = 6\n",
    "d = 2"
   ]
  },
  {
   "cell_type": "code",
   "execution_count": 77,
   "metadata": {},
   "outputs": [],
   "source": [
    "def reverse_complement(pattern):\n",
    "    compl = {'A': 'T', 'C': 'G', 'G': 'C', 'T': 'A'}\n",
    "    array_pattern = list(pattern)\n",
    "    for i in range(len(array_pattern)):\n",
    "        array_pattern[i] = compl[array_pattern[i]]\n",
    "    array_pattern.reverse()\n",
    "    \n",
    "    return ''.join(array_pattern) "
   ]
  },
  {
   "cell_type": "code",
   "execution_count": 78,
   "metadata": {},
   "outputs": [],
   "source": [
    "from collections import Counter\n",
    "appear_freq = Counter()\n",
    "neighbours = set()\n",
    "rev_compl_neighbours = set()\n",
    "\n",
    "letters = ['A', 'C', 'G', 'T']"
   ]
  },
  {
   "cell_type": "code",
   "execution_count": 79,
   "metadata": {},
   "outputs": [],
   "source": [
    "def count_neighbours(pattern, d, pos):\n",
    "    neighbours.add(pattern)\n",
    "    rev_compl_neighbours.add(reverse_complement(pattern))\n",
    "    \n",
    "    if (d == 0) or (pos == k): return \n",
    "    \n",
    "    current_letter = pattern[pos]\n",
    "    for letter in letters:\n",
    "        new_d = d\n",
    "        if letter != current_letter: new_d -= 1\n",
    "            \n",
    "        count_neighbours(pattern[:pos] + letter + pattern[pos+1:], new_d, pos+1)"
   ]
  },
  {
   "cell_type": "code",
   "execution_count": 80,
   "metadata": {},
   "outputs": [],
   "source": [
    "for i in range(len(text)-k+1):\n",
    "    neighbours.clear()\n",
    "    rev_compl_neighbours.clear()\n",
    "    count_neighbours(text[i:i+k], d, 0)\n",
    "    appear_freq += Counter(neighbours)\n",
    "    appear_freq += Counter(rev_compl_neighbours)"
   ]
  },
  {
   "cell_type": "code",
   "execution_count": 81,
   "metadata": {},
   "outputs": [
    {
     "name": "stdout",
     "output_type": "stream",
     "text": [
      "ATCGAG CTCGAT "
     ]
    }
   ],
   "source": [
    "most_freq = appear_freq.most_common(1)[0][1]\n",
    "for pattern in appear_freq:\n",
    "    if appear_freq[pattern] == most_freq:\n",
    "        print(pattern, end = ' ')"
   ]
  },
  {
   "cell_type": "code",
   "execution_count": null,
   "metadata": {},
   "outputs": [],
   "source": []
  }
 ],
 "metadata": {
  "kernelspec": {
   "display_name": "Python 3",
   "language": "python",
   "name": "python3"
  },
  "language_info": {
   "codemirror_mode": {
    "name": "ipython",
    "version": 3
   },
   "file_extension": ".py",
   "mimetype": "text/x-python",
   "name": "python",
   "nbconvert_exporter": "python",
   "pygments_lexer": "ipython3",
   "version": "3.8.3"
  }
 },
 "nbformat": 4,
 "nbformat_minor": 4
}
