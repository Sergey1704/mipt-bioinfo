{
 "cells": [
  {
   "cell_type": "code",
   "execution_count": 1,
   "metadata": {},
   "outputs": [],
   "source": [
    "def create_graph_from_reads(reads):\n",
    "    graph = dict()\n",
    "    for read in reads:\n",
    "        graph[read[1:]] = []\n",
    "        graph[read[:-1]] = []\n",
    "        \n",
    "    for read in reads:\n",
    "        graph[read[:-1]].append(read[1:])\n",
    "    \n",
    "    return graph"
   ]
  },
  {
   "cell_type": "code",
   "execution_count": 2,
   "metadata": {},
   "outputs": [],
   "source": [
    "def is_edge_in_cycle(cycle, node1, node2):\n",
    "    for i in range(len(cycle) - 1):\n",
    "        if cycle[i] == node1 and cycle[i+1] == node2:\n",
    "            return True\n",
    "        \n",
    "    return False\n",
    "        "
   ]
  },
  {
   "cell_type": "code",
   "execution_count": 3,
   "metadata": {},
   "outputs": [],
   "source": [
    "def next_node(graph, cycle, node):\n",
    "    for next_nd in graph[node]:\n",
    "        if not is_edge_in_cycle(cycle, node, next_nd):\n",
    "            return next_nd\n",
    "        \n",
    "    return None"
   ]
  },
  {
   "cell_type": "code",
   "execution_count": 4,
   "metadata": {},
   "outputs": [],
   "source": [
    "def find_new_start_node(graph, cycle):\n",
    "    for node in cycle:\n",
    "        next_nd = next_node(graph, cycle, node)\n",
    "        if next_nd != None:\n",
    "            return node\n",
    "            \n",
    "    return None"
   ]
  },
  {
   "cell_type": "code",
   "execution_count": 5,
   "metadata": {},
   "outputs": [],
   "source": [
    "def remake_cycle(cycle, new_start_node):\n",
    "    pos = 0\n",
    "    for i, node in enumerate(cycle):\n",
    "        if node == new_start_node:\n",
    "            pos = i\n",
    "    \n",
    "    new_cycle = cycle[pos:] + cycle[1:pos+1]\n",
    "    \n",
    "    return new_cycle"
   ]
  },
  {
   "cell_type": "code",
   "execution_count": 6,
   "metadata": {},
   "outputs": [],
   "source": [
    "from collections import Counter\n",
    "\n",
    "def start_end_find(graph):\n",
    "    count = Counter()\n",
    "    for out_node in graph:\n",
    "        count[out_node] += len(graph[out_node])\n",
    "        for in_node in graph[out_node]:\n",
    "            count[in_node] -= 1\n",
    "\n",
    "    start = count.most_common()[0][0]\n",
    "    end = count.most_common()[-1][0]\n",
    "    \n",
    "    return start, end"
   ]
  },
  {
   "cell_type": "code",
   "execution_count": 7,
   "metadata": {},
   "outputs": [],
   "source": [
    "def make_string(kmers):\n",
    "    string = kmers[0][:-1]\n",
    "    for kmer in kmers:\n",
    "        string += kmer[-1]\n",
    "    \n",
    "    return string"
   ]
  },
  {
   "cell_type": "code",
   "execution_count": 15,
   "metadata": {
    "scrolled": false
   },
   "outputs": [],
   "source": [
    "filename = 'rosalind_ba3h.txt'"
   ]
  },
  {
   "cell_type": "code",
   "execution_count": 16,
   "metadata": {
    "scrolled": true
   },
   "outputs": [],
   "source": [
    "with open(filename) as file:\n",
    "    k = int(file.readline())\n",
    "    reads = []\n",
    "    for line in file:\n",
    "        reads.append(line.rstrip())"
   ]
  },
  {
   "cell_type": "code",
   "execution_count": 17,
   "metadata": {},
   "outputs": [],
   "source": [
    "graph = create_graph_from_reads(reads)\n",
    "cycle = [list(graph.keys())[0]]"
   ]
  },
  {
   "cell_type": "code",
   "execution_count": 18,
   "metadata": {
    "scrolled": true
   },
   "outputs": [],
   "source": [
    "start, end = start_end_find(graph)\n",
    "graph[end].append(start)"
   ]
  },
  {
   "cell_type": "code",
   "execution_count": 19,
   "metadata": {},
   "outputs": [],
   "source": [
    "while find_new_start_node(graph, cycle) != None:    \n",
    "    new_start_node = find_new_start_node(graph, cycle)\n",
    "    cycle = remake_cycle(cycle, new_start_node)\n",
    "\n",
    "    while next_node(graph, cycle, cycle[-1]) != None:\n",
    "        cycle.append(next_node(graph, cycle, cycle[-1]))"
   ]
  },
  {
   "cell_type": "code",
   "execution_count": 20,
   "metadata": {},
   "outputs": [],
   "source": [
    "kmers = remake_cycle(cycle, start)[:-1]\n",
    "answer = make_string(kmers)"
   ]
  },
  {
   "cell_type": "code",
   "execution_count": 21,
   "metadata": {},
   "outputs": [
    {
     "name": "stdout",
     "output_type": "stream",
     "text": [
      "ATTGGGTTCCGATGCAATCTGGTACTGTCGCTACGCAAGATCATTTAATGCTGGCGCTCGCCGGCACACTGCCGGGCCTTTGGTGATTGTCAATACTTGATGCGAGCATTGGTATCCGATCTCTTACCCCCATGGTTAGCGTCGTACATATGTCGCCGACTGAATTCATGGGCGATCCTATACGGCCGTCTTGCGGGTCCCGTCATAGCACCACTACGTGATCAATGCAGATGGGCGATGGGACTACTGGTCGCCCAGAGGAGTATTTTTATGTGGCTAGACTGCCGCAGTAGTAGTTTGGCCGGTATAAACCAAGTCTTGACAGACACAGCATCAGGTCGCACTGGGTGCCAGCGGAACCGGGACTGGCCTTGGTAGTGAACGGCCGGTGATCATGATGTTCGTGTAGGCTGTACTCTCTAAACGCTGCTCTTACCTTCAAGGCGCCTGTCCTTGTTACCTGGCACGCGAGAGAACTGCCAACCTGTCAACTGGACGTAGCAACTGGTTTATCACCTTTTCACATGGAGTGCGCGCCGCAGAGTTTAGACCAAGCACGATAGCCATCAAGTAACTATGCAGTGTTCCTAAGGACTGGAAAAACGGACAGAGCCCCGTAGTGGCCTATTGTAAAATACCGTCCATAAGGCCCGTTTTATCCGGAGGCCAAAAGTGGAGTGTGGGCTACATTACCACCTTAAGGGGACAGTGTGGGAAGAACGTAAATCACCAAGCCACCATAAAGTCACGGGGTTGTGTGATAATTGTGCCGAAAAGAACGTTAAACACGTACGACAGACAGTGGAGCGCCCATCATTGCAGATTTAGCCGATTAGAAACCCTCATACTTGCTGCGTGGCCGAGTCACCACTTATACCATTGAAGCATCCGTCTCTGATAATCTGTTTTTAATGTAACATATTGTGAGGCATCTGAGGGGTAAGACTAGGTGCACTTACCCTCCATGCACCTCGCCATGCTCATTTATATGTATTACAGTCTCTTTCACCTTGCCGGGCGCGCTCGCGTCCGATAAAGACCTTTACGGCGTTAATCCCTTGAGCCTCTCAAACCTCCAAGCGTGGGAGCATAGCTCGAGTCCGTCGGATTGTGGCGTTCAGTACCCGACTAAAGTCCTGGTATTGATTGGGGAGATAAACGTAGGCGGCCTATCTGATTTATCCGAGGATTCGAATGGGCGACAATTCTCATGAAAGTTGGTAAGGTGGACCACAATTACACCCTAAAGGCTGCTGGACAACCTACGGCTAGCGGACACAAGCCGTTGAATGGATCACGTCACTATGATAGATGCCGGAGCTGTGTGACAGCCCTCCTGTTTCAACTAGACTTGAACATCGCAGGGCGGAATAGAACCACGATTCAAACTTTACCAGCATACGAGGCAGTAGGCCTGTATGTAGGTCTAGACGGAATTGTGCGGTTGAGGTTCCTGATATGCGATAAAGGTGGTCGTTGGTTCCCAGTGAGTTTCGCATTCGCATCATGACATTACTTAAAGGTTACCAATACCGTACGAGGTGAGCCGTCTGGCAACCGAGAGTACTGTTGCGTGTGCAAGTCGCGCACGCATAGCGTGGGATCCTAGAAGTAATAGCCTGGATCGAGAAGCGAAGGTCCAGTGACCAGCACACACGCGGCCCGATAACCATTACGAACGCTCAACGCAGTCCTTGTGAATGTCCCCGTATTCTTTAGCTCGTATTCACGTCGCAAGCGGCGCATGGACTGAGGGCCCTCGTACCACAAGGCGACGGTGATTATGGATGGTCCCCAACACATCCGTGCACCCGACGTAACAATACAGGAACGTCAGCTAATGACGTCATCTAAGAACTTCAAGTCAGCCGACGTGGACGGAGACAGGTATTAACGGAGTACACTATAACAGATGATGTTGCGTACAGGGTTACAAATTCTAAGGATAAATTTGCTAGCCACACCGGGACGCTAAAAGCAAGACTTAGGGCTGTGGCCCACCATGCGCGACGACGCCTCACTGGAAGGTAGCATCTATAGGATGTTATTAGTAAACAGACGTAAAACGGAATTTTAGCCTCACCTCAAACATTTAACTCCAGGTGTCTTACAACATAATTGAGACTCAACGACATTGTTCACGCTCGAGCGGCCGCGCCTGGACATCGTTTCTAATATACCATTCCATCTACCGAGTTGGCGATCATGCGGGACCTTTGCTCAGCTGAGGTACACCATCG\n"
     ]
    }
   ],
   "source": [
    "print(answer)"
   ]
  }
 ],
 "metadata": {
  "kernelspec": {
   "display_name": "Python 3",
   "language": "python",
   "name": "python3"
  },
  "language_info": {
   "codemirror_mode": {
    "name": "ipython",
    "version": 3
   },
   "file_extension": ".py",
   "mimetype": "text/x-python",
   "name": "python",
   "nbconvert_exporter": "python",
   "pygments_lexer": "ipython3",
   "version": "3.8.3"
  }
 },
 "nbformat": 4,
 "nbformat_minor": 4
}
