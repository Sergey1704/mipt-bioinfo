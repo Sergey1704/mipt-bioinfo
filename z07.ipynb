{
 "cells": [
  {
   "cell_type": "code",
   "execution_count": 1,
   "metadata": {},
   "outputs": [],
   "source": [
    "class Profile:\n",
    "\n",
    "    def __init__(self, k):\n",
    "        self.matrix = [{'A': 0, 'C': 0, 'G': 0, 'T': 0}.copy() for i in range(k)]\n",
    "        self.k = k\n",
    "        self.size = 0\n",
    "\n",
    "    def add(self, motif):\n",
    "        self.size += 1\n",
    "        for i in range(self.k):\n",
    "            self.matrix[i][motif[i]] += 1\n",
    "            \n",
    "    def score(self, motif):\n",
    "        value = 1.0\n",
    "        for i in range(self.k):\n",
    "            value *= self.matrix[i][motif[i]] / self.size\n",
    "            \n",
    "        return value\n",
    "    \n",
    "    def score_with_pseudocounts(self, motif):\n",
    "        value = 1.0\n",
    "        for i in range(self.k):\n",
    "            value *= (self.matrix[i][motif[i]] + 1) / (self.size + 2)\n",
    "        \n",
    "        return value\n",
    "        "
   ]
  },
  {
   "cell_type": "code",
   "execution_count": 2,
   "metadata": {},
   "outputs": [],
   "source": [
    "def most_probable(profile, k, string):\n",
    "    best_score = 0.0\n",
    "    mp_kmer = string[0:k]\n",
    "    \n",
    "    for i in range(len(string)-k+1):\n",
    "        kmer = string[i:i+k]\n",
    "        \n",
    "        if profile.score_with_pseudocounts(kmer) > best_score:\n",
    "            best_score = profile.score_with_pseudocounts(kmer)\n",
    "            mp_kmer = kmer\n",
    "    \n",
    "    return mp_kmer"
   ]
  },
  {
   "cell_type": "code",
   "execution_count": 3,
   "metadata": {},
   "outputs": [],
   "source": [
    "def score(motifs):\n",
    "    k = len(motifs[0])\n",
    "    p = Profile(k)\n",
    "    for motif in motifs: p.add(motif)\n",
    "    \n",
    "    value = 0\n",
    "    for i in range(k):\n",
    "        max_freq = max(p.matrix[i].values())\n",
    "        cons_letter = 'A'\n",
    "        for letter in p.matrix[i].keys():\n",
    "            if p.matrix[i][letter] == max_freq: cons_letter = letter\n",
    "                \n",
    "        for j in range(len(motifs)):\n",
    "            if motifs[j][i] != cons_letter:\n",
    "                value += 1\n",
    "                \n",
    "    return value"
   ]
  },
  {
   "cell_type": "code",
   "execution_count": 4,
   "metadata": {},
   "outputs": [],
   "source": [
    "def GreedyMotifSearch(dna, k, t):\n",
    "    bestMotifs = [string[0:k] for string in dna]\n",
    "    str_len = len(dna[0])\n",
    "    \n",
    "    for i in range(str_len-k+1):\n",
    "        Motifs = []\n",
    "        Motifs.append(dna[0][i:i+k])\n",
    "        p = Profile(k)\n",
    "        \n",
    "        for j in range(1, t):\n",
    "            p.add(Motifs[-1])\n",
    "            Motifs.append(most_probable(p, k, dna[j]))\n",
    "            \n",
    "        if score(Motifs) < score(bestMotifs):\n",
    "            bestMotifs = Motifs\n",
    "    \n",
    "    return bestMotifs         "
   ]
  },
  {
   "cell_type": "code",
   "execution_count": 13,
   "metadata": {
    "scrolled": false
   },
   "outputs": [],
   "source": [
    "filename = 'rosalind_ba2e.txt'"
   ]
  },
  {
   "cell_type": "code",
   "execution_count": 14,
   "metadata": {},
   "outputs": [],
   "source": [
    "with open(filename) as file:\n",
    "    k, t = [int(x) for x in file.readline().split()]\n",
    "    dna = []\n",
    "    for line in file:\n",
    "        dna.append(line.rstrip())"
   ]
  },
  {
   "cell_type": "code",
   "execution_count": 15,
   "metadata": {},
   "outputs": [],
   "source": [
    "BestMotifs = GreedyMotifSearch(dna, k, t)"
   ]
  },
  {
   "cell_type": "code",
   "execution_count": 16,
   "metadata": {},
   "outputs": [
    {
     "name": "stdout",
     "output_type": "stream",
     "text": [
      "GCACGTAGCACC\n",
      "CCAGGTGGCCCC\n",
      "GCACGTCGCTCC\n",
      "GCAGGTGGCCCC\n",
      "ACAAGTGGCGCC\n",
      "CCAAGTGGCGCC\n",
      "ACATGTAGCGCC\n",
      "GCACGTGGCCCC\n",
      "ACAAGTCGCACC\n",
      "GCAAGTTGCGCC\n",
      "GCAGGTAGCACC\n",
      "GCACGTGGCTCC\n",
      "TCAGGTCGCCCC\n",
      "TCAGGTGGCACC\n",
      "GCAAGTGGCCCC\n",
      "GCATGTTGCTCC\n",
      "TCAGGTAGCACC\n",
      "ACATGTCGCTCC\n",
      "TCATGTGGCCCC\n",
      "CCAAGTAGCCCC\n",
      "GCAGGTGGCCCC\n",
      "GCAAGTTGCTCC\n",
      "TCAAGTAGCCCC\n",
      "GCAAGTAGCTCC\n",
      "ACAGGTAGCCCC\n"
     ]
    }
   ],
   "source": [
    "for motif in BestMotifs:\n",
    "    print(motif)"
   ]
  }
 ],
 "metadata": {
  "kernelspec": {
   "display_name": "Python 3",
   "language": "python",
   "name": "python3"
  },
  "language_info": {
   "codemirror_mode": {
    "name": "ipython",
    "version": 3
   },
   "file_extension": ".py",
   "mimetype": "text/x-python",
   "name": "python",
   "nbconvert_exporter": "python",
   "pygments_lexer": "ipython3",
   "version": "3.8.3"
  }
 },
 "nbformat": 4,
 "nbformat_minor": 4
}
