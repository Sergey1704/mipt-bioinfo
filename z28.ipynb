{
 "cells": [
  {
   "cell_type": "code",
   "execution_count": 1,
   "metadata": {},
   "outputs": [],
   "source": [
    "def fill_graph(graph, genome):\n",
    "    for block in genome:\n",
    "        for i, elem in enumerate(block):\n",
    "            next_elem = block[(i+1)%len(block)]\n",
    "            graph[elem].add(-next_elem)\n",
    "            graph[-next_elem].add(elem)"
   ]
  },
  {
   "cell_type": "code",
   "execution_count": 2,
   "metadata": {},
   "outputs": [],
   "source": [
    "def get_nodes(graph):\n",
    "    nodes = set()\n",
    "    for key, value in graph.items():\n",
    "        nodes.add(key)\n",
    "        nodes.update(set(value))\n",
    "    return nodes"
   ]
  },
  {
   "cell_type": "code",
   "execution_count": 3,
   "metadata": {},
   "outputs": [],
   "source": [
    "def count_cycles(graph):\n",
    "    num_of_cycles = 0\n",
    "    nodes = get_nodes(graph)\n",
    "    while nodes:\n",
    "        node = nodes.pop()\n",
    "        num_of_cycles += 1\n",
    "        for nd in graph[node]:\n",
    "            if nd in nodes:\n",
    "                next_node = nd\n",
    "                break\n",
    "        while next_node in nodes:\n",
    "            nodes.remove(next_node)\n",
    "            for nd in graph[next_node]:\n",
    "                if nd in nodes:\n",
    "                    next_node = nd\n",
    "                    break\n",
    "    return num_of_cycles"
   ]
  },
  {
   "cell_type": "code",
   "execution_count": 4,
   "metadata": {},
   "outputs": [],
   "source": [
    "filename = 'rosalind_ba6c.txt'"
   ]
  },
  {
   "cell_type": "code",
   "execution_count": 5,
   "metadata": {},
   "outputs": [],
   "source": [
    "with open(filename) as file:\n",
    "    str_genome1 = file.readline().rstrip()[1:-1].split(')(')\n",
    "    genome1 = [list(map(int, block.split())) for block in str_genome1]\n",
    "    str_genome2 = file.readline().rstrip()[1:-1].split(')(')\n",
    "    genome2 = [list(map(int, block.split())) for block in str_genome2]"
   ]
  },
  {
   "cell_type": "code",
   "execution_count": 6,
   "metadata": {},
   "outputs": [],
   "source": [
    "from collections import defaultdict\n",
    "graph_pq = defaultdict(set)\n",
    "fill_graph(graph_pq, genome1)\n",
    "fill_graph(graph_pq, genome2)\n",
    "\n",
    "graph_qq = defaultdict(set)\n",
    "fill_graph(graph_qq, genome2)\n",
    "fill_graph(graph_qq, genome2)"
   ]
  },
  {
   "cell_type": "code",
   "execution_count": 7,
   "metadata": {},
   "outputs": [
    {
     "name": "stdout",
     "output_type": "stream",
     "text": [
      "12808\n"
     ]
    }
   ],
   "source": [
    "distance = count_cycles(graph_qq) - count_cycles(graph_pq)\n",
    "print(distance)"
   ]
  }
 ],
 "metadata": {
  "kernelspec": {
   "display_name": "Python 3",
   "language": "python",
   "name": "python3"
  },
  "language_info": {
   "codemirror_mode": {
    "name": "ipython",
    "version": 3
   },
   "file_extension": ".py",
   "mimetype": "text/x-python",
   "name": "python",
   "nbconvert_exporter": "python",
   "pygments_lexer": "ipython3",
   "version": "3.8.3"
  }
 },
 "nbformat": 4,
 "nbformat_minor": 4
}
