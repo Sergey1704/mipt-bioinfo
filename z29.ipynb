{
 "cells": [
  {
   "cell_type": "code",
   "execution_count": 1,
   "metadata": {},
   "outputs": [],
   "source": [
    "def print_sequence(sequence):\n",
    "    result_str = '('\n",
    "    for elem in sequence:\n",
    "        if elem > 0:\n",
    "            result_str += '+' + str(elem) + ' '\n",
    "        else:\n",
    "            result_str += str(elem) + ' '\n",
    "            \n",
    "    result_str = result_str[:-1] + ')'\n",
    "    print(result_str, end='')"
   ]
  },
  {
   "cell_type": "code",
   "execution_count": 2,
   "metadata": {},
   "outputs": [],
   "source": [
    "def print_genome(genome):\n",
    "    for block in genome:\n",
    "        print_sequence(block)\n",
    "    print()"
   ]
  },
  {
   "cell_type": "code",
   "execution_count": 3,
   "metadata": {},
   "outputs": [],
   "source": [
    "def ChromosomeToCycle(chromosome):\n",
    "    cycle = []\n",
    "    for elem in chromosome:\n",
    "        if elem > 0:\n",
    "            cycle.append(2*elem - 1)\n",
    "            cycle.append(2*elem)\n",
    "        else:\n",
    "            cycle.append(-2*elem)\n",
    "            cycle.append(-2*elem - 1)\n",
    "    return cycle"
   ]
  },
  {
   "cell_type": "code",
   "execution_count": 4,
   "metadata": {},
   "outputs": [],
   "source": [
    "def CycleToChromosome(cycle):\n",
    "    chromosome = []\n",
    "    for i in range(len(cycle) // 2):\n",
    "        if cycle[2*i] < cycle[2*i + 1]:\n",
    "            chromosome.append(cycle[2*i + 1] // 2)\n",
    "        else:\n",
    "            chromosome.append(-(cycle[2*i] // 2))\n",
    "            \n",
    "    return chromosome"
   ]
  },
  {
   "cell_type": "code",
   "execution_count": 5,
   "metadata": {},
   "outputs": [],
   "source": [
    "def ColoredEdges(genome):\n",
    "    edges = []\n",
    "    for chromosome in genome:\n",
    "        nodes = ChromosomeToCycle(chromosome)\n",
    "        \n",
    "        for i in range(1, len(chromosome) + 1):\n",
    "            edges.append((nodes[(2*i - 1)%len(nodes)], nodes[(2*i)%len(nodes)]))\n",
    "            \n",
    "    return edges"
   ]
  },
  {
   "cell_type": "code",
   "execution_count": 6,
   "metadata": {},
   "outputs": [],
   "source": [
    "def GraphToGenome(graph):\n",
    "    genome = []\n",
    "    \n",
    "    while graph:\n",
    "        num = graph[0][0]\n",
    "        nodes = []\n",
    "        while True:\n",
    "            found = False\n",
    "            \n",
    "            for elem in graph:\n",
    "                if num in elem:\n",
    "                    nodes.append(num)\n",
    "                    nodes.append(elem[0]) if elem[0] != num else nodes.append(elem[1])\n",
    "                    graph.remove(elem)\n",
    "                    found = True\n",
    "                    break\n",
    "                \n",
    "            if not found:\n",
    "                chromosome = CycleToChromosome(nodes[-1:] + nodes[:-1])\n",
    "                genome.append(chromosome)\n",
    "                break\n",
    "                \n",
    "            if nodes[-1] % 2 == 0:\n",
    "                num = nodes[-1] - 1\n",
    "            else:\n",
    "                num = nodes[-1] + 1 \n",
    "   \n",
    "    return genome"
   ]
  },
  {
   "cell_type": "code",
   "execution_count": 7,
   "metadata": {},
   "outputs": [],
   "source": [
    "def BreakOnGenomeGraph(graph, i1 , i2 , i3 , i4):\n",
    "    if (i1, i2) in graph: \n",
    "        graph.remove((i1, i2))\n",
    "    else:\n",
    "        graph.remove((i2, i1))\n",
    "    if (i3, i4) in graph: \n",
    "        graph.remove((i3, i4))\n",
    "    else:\n",
    "        graph.remove((i4, i3))\n",
    "    \n",
    "    graph.append((i1, i3))\n",
    "    graph.append((i2, i4))\n",
    "    \n",
    "    return graph"
   ]
  },
  {
   "cell_type": "code",
   "execution_count": 8,
   "metadata": {},
   "outputs": [],
   "source": [
    "def BreakOnGenome(genome, i1 , i2 , i3 , i4):\n",
    "    graph = ColoredEdges(genome)\n",
    "    graph = BreakOnGenomeGraph(graph, i1 , i2 , i3 , i4)\n",
    "    genome = GraphToGenome(graph)\n",
    "    \n",
    "    return genome"
   ]
  },
  {
   "cell_type": "code",
   "execution_count": 9,
   "metadata": {},
   "outputs": [],
   "source": [
    "def find_blue_edge(redEdges, blueEdges):\n",
    "    for edge in blueEdges:\n",
    "        if (edge[0], edge[1]) not in redEdges and (edge[1], edge[0]) not in redEdges:\n",
    "            return edge\n",
    "    return None"
   ]
  },
  {
   "cell_type": "code",
   "execution_count": 10,
   "metadata": {},
   "outputs": [],
   "source": [
    "def find_near_red_edges(blue_edge, redEdges):\n",
    "    found_red_edges = []\n",
    "    for x in blue_edge:\n",
    "        for edge in redEdges:\n",
    "            if x in edge:\n",
    "                if x == edge[0]:\n",
    "                    found_red_edges.append(edge)\n",
    "                else:\n",
    "                    found_red_edges.append((edge[1], edge[0]))\n",
    "                break\n",
    "    \n",
    "    return found_red_edges"
   ]
  },
  {
   "cell_type": "code",
   "execution_count": 11,
   "metadata": {},
   "outputs": [],
   "source": [
    "def ShortestRearrangementScenario(P, Q):\n",
    "    print_genome(P)\n",
    "    redEdges = ColoredEdges(P)\n",
    "    blueEdges = ColoredEdges(Q)\n",
    "    \n",
    "    while find_blue_edge(redEdges, blueEdges):\n",
    "        blue_edge = find_blue_edge(redEdges, blueEdges)\n",
    "        (i1, i2), (i3, i4) = find_near_red_edges(blue_edge, redEdges)\n",
    "        \n",
    "        if (i1, i2) in redEdges:\n",
    "            redEdges.remove((i1, i2))\n",
    "        else:\n",
    "            redEdges.remove((i2, i1))\n",
    "        if (i3, i4) in redEdges:\n",
    "            redEdges.remove((i3, i4))\n",
    "        else:\n",
    "            redEdges.remove((i4, i3))\n",
    "        \n",
    "        redEdges.append((i1, i3))\n",
    "        redEdges.append((i2, i4))\n",
    "        \n",
    "        P = BreakOnGenome(P, i1, i2, i3, i4)\n",
    "        print_genome(P)"
   ]
  },
  {
   "cell_type": "code",
   "execution_count": 12,
   "metadata": {},
   "outputs": [],
   "source": [
    "filename = 'rosalind_ba6d.txt'"
   ]
  },
  {
   "cell_type": "code",
   "execution_count": 13,
   "metadata": {},
   "outputs": [],
   "source": [
    "with open(filename) as file:\n",
    "    str_genome_p = file.readline().rstrip()[1:-1].split(')(')\n",
    "    P = [list(map(int, block.split())) for block in str_genome_p]\n",
    "    str_genome_q = file.readline().rstrip()[1:-1].split(')(')\n",
    "    Q = [list(map(int, block.split())) for block in str_genome_q]"
   ]
  },
  {
   "cell_type": "code",
   "execution_count": 14,
   "metadata": {},
   "outputs": [
    {
     "name": "stdout",
     "output_type": "stream",
     "text": [
      "(-11 -10 +5 -9 -2 +7 -1 -6 +12 +4 +8 -3)\n",
      "(-10 +5 -9 -2 +7 -1 -6 +12 +4)(+8 -3 -11)\n",
      "(-10 +5 -9 -3 -11 +8 -2 +7 -1 -6 +12 +4)\n",
      "(-10 +5 -9 -3 -11 +8 -2 -7 -1 -6 +12 +4)\n",
      "(+5 -9 -3 -11 +8 -2 -7)(-1 -6 +12 +4 -10)\n",
      "(-9 -3 -11 +8 -2 -7 +5 -6 +12 +4 -10 -1)\n",
      "(-9 -3 -11 +8 -2 -7 +5 -6 +10 -4 -12 -1)\n",
      "(-9 -3 -11 +8 -2 -7 +5 -6 +10 -1)(-4 -12)\n",
      "(-9 -3 -11 +8 -2 -7 +5 -6 +10 -1 +4 +12)\n",
      "(-3 -11 +8 -2 -7 +5 -6 +10 -1 +4 +12 +9)\n"
     ]
    }
   ],
   "source": [
    "ShortestRearrangementScenario(P, Q)"
   ]
  }
 ],
 "metadata": {
  "kernelspec": {
   "display_name": "Python 3",
   "language": "python",
   "name": "python3"
  },
  "language_info": {
   "codemirror_mode": {
    "name": "ipython",
    "version": 3
   },
   "file_extension": ".py",
   "mimetype": "text/x-python",
   "name": "python",
   "nbconvert_exporter": "python",
   "pygments_lexer": "ipython3",
   "version": "3.8.3"
  }
 },
 "nbformat": 4,
 "nbformat_minor": 4
}
