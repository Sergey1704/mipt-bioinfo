{
 "cells": [
  {
   "cell_type": "code",
   "execution_count": 1,
   "metadata": {},
   "outputs": [],
   "source": [
    "class Peptide:\n",
    "    def __init__(self):\n",
    "        self.masses = []\n",
    "    \n",
    "    @property\n",
    "    def mass(self):\n",
    "        return sum(self.masses) \n",
    "        \n",
    "    @property\n",
    "    def spectrum(self):\n",
    "        sp = [0]\n",
    "        mses = self.masses.copy()[:-1]\n",
    "        n = len(self.masses)\n",
    "        for k in range(1, n):\n",
    "            mses.append(self.masses[(k-2)%n])\n",
    "            for i in range(len(mses)-k+1):\n",
    "                sp.append(sum(mses[i:i+k]))\n",
    "        sp.append(sum(self.masses))\n",
    "        sp.sort()\n",
    "        return sp\n",
    "    \n",
    "    def add(self, new_mass):\n",
    "        self.masses.append(new_mass)\n",
    "        return self\n",
    "        \n",
    "    def __str__(self):\n",
    "        string = ''\n",
    "        for m in self.masses:\n",
    "            string += str(m) + '-'\n",
    "        string = string[:-1]\n",
    "        return string\n",
    "    \n",
    "    def copy(self):\n",
    "        copy_pep = Peptide()\n",
    "        copy_pep.masses = self.masses.copy()\n",
    "        return copy_pep"
   ]
  },
  {
   "cell_type": "code",
   "execution_count": 2,
   "metadata": {},
   "outputs": [],
   "source": [
    "from collections import Counter\n",
    "def top_m_elements(spectrum, M):\n",
    "    masses = [57, 71, 87, 97, 99, 101, 103, 113, 114, 115, 128, 129, 131, 137, 147, 156, 163, 186]\n",
    "    differences = []\n",
    "    for first_elem in spectrum:\n",
    "        for second_elem in spectrum:\n",
    "            diff = abs(first_elem - second_elem)\n",
    "            if 57 <= diff and diff <= 200:\n",
    "                differences.append(diff)\n",
    "    c = Counter(differences)\n",
    "    new_min_count = c.most_common(M)[-1][1]\n",
    "    new_masses = [elem for elem in c if c[elem] >= new_min_count and elem in masses]\n",
    "    new_masses.sort()\n",
    "    return new_masses"
   ]
  },
  {
   "cell_type": "code",
   "execution_count": 3,
   "metadata": {},
   "outputs": [],
   "source": [
    "def expand(peptides, masses):\n",
    "    new_peptides = [peptide.copy().add(m) for m in masses for peptide in peptides]\n",
    "    return new_peptides"
   ]
  },
  {
   "cell_type": "code",
   "execution_count": 4,
   "metadata": {},
   "outputs": [],
   "source": [
    "def score(peptide, spectrum):\n",
    "    sc = 0\n",
    "    spec = spectrum.copy()\n",
    "    for m in peptide.spectrum:\n",
    "        if m in spec:\n",
    "            sc += 1\n",
    "            spec.remove(m)\n",
    "    return sc"
   ]
  },
  {
   "cell_type": "code",
   "execution_count": 5,
   "metadata": {},
   "outputs": [],
   "source": [
    "def cut(leaderboard, spectrum, N):\n",
    "    if len(leaderboard) == 0: \n",
    "        return []\n",
    "    scores = [score(peptide, spectrum) for peptide in leaderboard]\n",
    "    scores.sort(reverse = True)\n",
    "    top_score = scores[min(N, len(scores))-1]\n",
    "    new_leaderboard = [peptide for peptide in leaderboard if score(peptide,spectrum) >= top_score]\n",
    "    return new_leaderboard"
   ]
  },
  {
   "cell_type": "code",
   "execution_count": 6,
   "metadata": {},
   "outputs": [],
   "source": [
    "def ConvolutionCyclopeptideSequencing(spectrum, N, M):\n",
    "    masses = top_m_elements(spectrum, M)\n",
    "    leaderboard = [Peptide()]\n",
    "    leaderPeptide = Peptide()\n",
    "    while len(leaderboard) > 0:\n",
    "        leaderboard = expand(leaderboard, masses)\n",
    "        new_leaderboard  = leaderboard.copy()\n",
    "        for peptide in leaderboard:\n",
    "            if peptide.mass == max(spectrum):\n",
    "                if score(peptide, spectrum) > score(leaderPeptide, spectrum):\n",
    "                    leaderPeptide = peptide.copy()\n",
    "            elif peptide.mass > max(spectrum):\n",
    "                new_leaderboard.remove(peptide)\n",
    "        new_leaderboard = cut(new_leaderboard, spectrum, N)                     \n",
    "        leaderboard = new_leaderboard\n",
    "    return leaderPeptide"
   ]
  },
  {
   "cell_type": "code",
   "execution_count": 7,
   "metadata": {},
   "outputs": [],
   "source": [
    "filename = 'rosalind_ba4i.txt'"
   ]
  },
  {
   "cell_type": "code",
   "execution_count": 8,
   "metadata": {},
   "outputs": [],
   "source": [
    "with open(filename) as file:\n",
    "    M = int(file.readline().rstrip())\n",
    "    N = int(file.readline().rstrip())\n",
    "    spectrum = [int(x) for x in file.readline().split()]"
   ]
  },
  {
   "cell_type": "code",
   "execution_count": 9,
   "metadata": {
    "scrolled": true
   },
   "outputs": [
    {
     "name": "stdout",
     "output_type": "stream",
     "text": [
      "156-114-163-71-71-99-128-163-147-128-156-113-113-99-57\n"
     ]
    }
   ],
   "source": [
    "spectrum.sort()\n",
    "leaderPeptide = ConvolutionCyclopeptideSequencing(spectrum, N, M)\n",
    "print(leaderPeptide)"
   ]
  }
 ],
 "metadata": {
  "kernelspec": {
   "display_name": "Python 3",
   "language": "python",
   "name": "python3"
  },
  "language_info": {
   "codemirror_mode": {
    "name": "ipython",
    "version": 3
   },
   "file_extension": ".py",
   "mimetype": "text/x-python",
   "name": "python",
   "nbconvert_exporter": "python",
   "pygments_lexer": "ipython3",
   "version": "3.8.3"
  }
 },
 "nbformat": 4,
 "nbformat_minor": 4
}
