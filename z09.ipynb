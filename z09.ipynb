{
 "cells": [
  {
   "cell_type": "code",
   "execution_count": 539,
   "metadata": {},
   "outputs": [],
   "source": [
    "from random import randint, uniform"
   ]
  },
  {
   "cell_type": "code",
   "execution_count": 540,
   "metadata": {},
   "outputs": [],
   "source": [
    "class Profile:\n",
    "\n",
    "    def __init__(self, k, motifs = []):\n",
    "        self.matrix = [{'A': 0, 'C': 0, 'G': 0, 'T': 0}.copy() for i in range(k)]\n",
    "        self.k = k\n",
    "        self.size = len(motifs)\n",
    "        for motif in motifs:\n",
    "            for i in range(self.k):\n",
    "                self.matrix[i][motif[i]] += 1\n",
    "\n",
    "    def add(self, motif):\n",
    "        self.size += 1\n",
    "        for i in range(self.k):\n",
    "            self.matrix[i][motif[i]] += 1\n",
    "                      \n",
    "    def score(self, motif):\n",
    "        value = 1.0\n",
    "        for i in range(self.k):\n",
    "            value *= (self.matrix[i][motif[i]] + 1) / (self.size + 2)\n",
    "            \n",
    "        return value\n"
   ]
  },
  {
   "cell_type": "code",
   "execution_count": 541,
   "metadata": {},
   "outputs": [],
   "source": [
    "def most_probable(profile, string):\n",
    "    best_score = 0.0\n",
    "    k = profile.k\n",
    "    mp_kmer = string[0:k]\n",
    "    \n",
    "    for i in range(len(string)-k+1):\n",
    "        kmer = string[i:i+k]\n",
    "        \n",
    "        if profile.score(kmer) > best_score:\n",
    "            best_score = profile.score(kmer)\n",
    "            mp_kmer = kmer\n",
    "    \n",
    "    return mp_kmer"
   ]
  },
  {
   "cell_type": "code",
   "execution_count": 542,
   "metadata": {},
   "outputs": [],
   "source": [
    "def score(motifs):\n",
    "    k = len(motifs[0])\n",
    "    p = Profile(k, motifs)\n",
    "    \n",
    "    value = 0\n",
    "    for i in range(k):\n",
    "        max_freq = max(p.matrix[i].values())\n",
    "        cons_letter = 'A'\n",
    "        for letter in p.matrix[i].keys():\n",
    "            if p.matrix[i][letter] == max_freq: cons_letter = letter\n",
    "                \n",
    "        for j in range(len(motifs)):\n",
    "            if motifs[j][i] != cons_letter:\n",
    "                value += 1\n",
    "                \n",
    "    return value"
   ]
  },
  {
   "cell_type": "code",
   "execution_count": 543,
   "metadata": {},
   "outputs": [],
   "source": [
    "def make_motifs(profile, dna):\n",
    "    motifs = []\n",
    "    for string in dna:\n",
    "        motifs.append(most_probable(profile, string))\n",
    "        \n",
    "    return motifs       "
   ]
  },
  {
   "cell_type": "code",
   "execution_count": 544,
   "metadata": {},
   "outputs": [],
   "source": [
    "def random_motif(string, k):\n",
    "    pos = randint(0, len(string)-k)\n",
    "    \n",
    "    return string[pos:pos+k]"
   ]
  },
  {
   "cell_type": "code",
   "execution_count": 545,
   "metadata": {},
   "outputs": [],
   "source": [
    "def random_dist_motif(string, profile):\n",
    "    k = profile.k\n",
    "    scores = [profile.score(string[i:i+k]) for i in range(len(string)-k+1)]  \n",
    "    max_number = sum(scores)\n",
    "    random_number = uniform(0, max_number)\n",
    " \n",
    "    pos = -1\n",
    "    while random_number >= 0:\n",
    "        pos += 1\n",
    "        random_number -= scores[pos]\n",
    "         \n",
    "    return string[pos:pos+k]"
   ]
  },
  {
   "cell_type": "code",
   "execution_count": 546,
   "metadata": {},
   "outputs": [],
   "source": [
    "def GibbsSampler(dna, k, t, N):\n",
    "    Motifs = [random_motif(string, k) for string in dna]\n",
    "    bestMotifs = Motifs\n",
    "    \n",
    "    for j in range(N):\n",
    "        i = randint(0, t-1)\n",
    "        p = Profile(k, Motifs[0:i] + Motifs[i+1:])\n",
    "        Motifs[i] = random_dist_motif(dna[i], p)\n",
    " \n",
    "        if score(Motifs) < score(bestMotifs):\n",
    "            bestMotifs = Motifs\n",
    "            \n",
    "    return bestMotifs"
   ]
  },
  {
   "cell_type": "code",
   "execution_count": 559,
   "metadata": {
    "scrolled": false
   },
   "outputs": [],
   "source": [
    "filename = 'rosalind_ba2g.txt'"
   ]
  },
  {
   "cell_type": "code",
   "execution_count": 560,
   "metadata": {},
   "outputs": [],
   "source": [
    "with open(filename) as file:\n",
    "    k, t, N = [int(x) for x in file.readline().split()]\n",
    "    dna = []\n",
    "    for line in file:\n",
    "        dna.append(line.rstrip())"
   ]
  },
  {
   "cell_type": "code",
   "execution_count": 561,
   "metadata": {
    "scrolled": true
   },
   "outputs": [],
   "source": [
    "from tqdm import tqdm"
   ]
  },
  {
   "cell_type": "code",
   "execution_count": 562,
   "metadata": {},
   "outputs": [
    {
     "name": "stderr",
     "output_type": "stream",
     "text": [
      "100%|██████████| 19/19 [00:37<00:00,  2.00s/it]\n"
     ]
    }
   ],
   "source": [
    "bestMotifs = GibbsSampler(dna, k, t, N)\n",
    "\n",
    "for i in tqdm(range(20 - 1)):\n",
    "    motifs = GibbsSampler(dna, k, t, N)\n",
    "    if score(motifs) < score(bestMotifs):\n",
    "        bestMotifs = motifs"
   ]
  },
  {
   "cell_type": "code",
   "execution_count": 563,
   "metadata": {
    "scrolled": true
   },
   "outputs": [
    {
     "name": "stdout",
     "output_type": "stream",
     "text": [
      "TATGCTAGCGTACTT\n",
      "CAATGGAGCGATCTC\n",
      "CAAATTAAATATCTC\n",
      "CAAATTAGAACTCTC\n",
      "GGCATTAGCGATCTC\n",
      "CAAAGCCGCGATCTC\n",
      "CAAAGGGGCGATCTC\n",
      "CAAATTTTAGATCTC\n",
      "CAAATTGCTGATCTC\n",
      "CAAATTAGCGATTGG\n",
      "TAAATTAGCGATCAA\n",
      "CAAATCGTCGATCTC\n",
      "CAAATTAGCGCAGTC\n",
      "ACAATTAGCGATCTA\n",
      "CACTCTAGCGATCTC\n",
      "CAAATTAGCCTGCTC\n",
      "CAAATCCCCGATCTC\n",
      "CGTCTTAGCGATCTC\n",
      "CAAGCGAGCGATCTC\n",
      "CAAATTAGCGACAGC\n"
     ]
    }
   ],
   "source": [
    "for motif in bestMotifs:\n",
    "    print(motif)"
   ]
  }
 ],
 "metadata": {
  "kernelspec": {
   "display_name": "Python 3",
   "language": "python",
   "name": "python3"
  },
  "language_info": {
   "codemirror_mode": {
    "name": "ipython",
    "version": 3
   },
   "file_extension": ".py",
   "mimetype": "text/x-python",
   "name": "python",
   "nbconvert_exporter": "python",
   "pygments_lexer": "ipython3",
   "version": "3.8.3"
  }
 },
 "nbformat": 4,
 "nbformat_minor": 4
}
