{
 "cells": [
  {
   "cell_type": "code",
   "execution_count": 7,
   "metadata": {},
   "outputs": [],
   "source": [
    "def HammingDistance(pattern1, pattern2):\n",
    "    if len(pattern1) != len(pattern2):\n",
    "        return -1\n",
    "    distance = 0\n",
    "    for i in range(len(pattern1)):\n",
    "        if pattern1[i] != pattern2[i]:\n",
    "            distance += 1\n",
    "    return distance"
   ]
  },
  {
   "cell_type": "code",
   "execution_count": 8,
   "metadata": {},
   "outputs": [],
   "source": [
    "def DistanceBetweenPatternAndStrings(pattern, dna):\n",
    "    k = len(pattern)\n",
    "    distance = 0\n",
    "    for string in dna:\n",
    "        min_hamm_dist = len(string)\n",
    "        for i in range(len(string)-k+1):\n",
    "            hamm_dist = HammingDistance(pattern, string[i:i+k])\n",
    "            if hamm_dist < min_hamm_dist:\n",
    "                min_hamm_dist = hamm_dist\n",
    "        distance += min_hamm_dist\n",
    "    return distance"
   ]
  },
  {
   "cell_type": "code",
   "execution_count": 12,
   "metadata": {},
   "outputs": [],
   "source": [
    "filename = 'rosalind_ba2h.txt'"
   ]
  },
  {
   "cell_type": "code",
   "execution_count": 13,
   "metadata": {},
   "outputs": [],
   "source": [
    "with open(filename) as file:\n",
    "    pattern = file.readline().rstrip()\n",
    "    dna = file.readline().split()"
   ]
  },
  {
   "cell_type": "code",
   "execution_count": 14,
   "metadata": {},
   "outputs": [
    {
     "name": "stdout",
     "output_type": "stream",
     "text": [
      "37\n"
     ]
    }
   ],
   "source": [
    "print(DistanceBetweenPatternAndStrings(pattern, dna))"
   ]
  }
 ],
 "metadata": {
  "kernelspec": {
   "display_name": "Python 3",
   "language": "python",
   "name": "python3"
  },
  "language_info": {
   "codemirror_mode": {
    "name": "ipython",
    "version": 3
   },
   "file_extension": ".py",
   "mimetype": "text/x-python",
   "name": "python",
   "nbconvert_exporter": "python",
   "pygments_lexer": "ipython3",
   "version": "3.8.3"
  }
 },
 "nbformat": 4,
 "nbformat_minor": 4
}
