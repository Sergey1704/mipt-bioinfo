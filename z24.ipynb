{
 "cells": [
  {
   "cell_type": "code",
   "execution_count": 1,
   "metadata": {},
   "outputs": [],
   "source": [
    "def get_score(letter1, letter2):\n",
    "    letter_to_index = {'A': 0, 'C': 1, 'D': 2, 'E': 3, 'F': 4, 'G': 5, 'H': 6, 'I': 7, 'K': 8, 'L': 9, 'M': 10, \n",
    "                       'N': 11, 'P': 12, 'Q': 13, 'R': 14, 'S': 15, 'T': 16, 'V': 17, 'W': 18, 'Y': 19}\n",
    "    \n",
    "    score_matrix = [[2, -2, 0, 0, -3, 1, -1, -1, -1, -2, -1, 0, 1, 0, -2, 1, 1, 0, -6, -3],\n",
    "                    [-2, 12, -5, -5, -4, -3, -3, -2, -5, -6, -5, -4, -3, -5, -4, 0, -2, -2, -8, 0],\n",
    "                    [0, -5, 4, 3, -6, 1, 1, -2, 0, -4, -3, 2, -1, 2, -1, 0, 0, -2, -7, -4],\n",
    "                    [0, -5, 3, 4, -5, 0, 1, -2, 0, -3, -2, 1, -1, 2, -1, 0, 0, -2, -7, -4],\n",
    "                    [-3, -4, -6, -5, 9, -5, -2, 1, -5, 2, 0, -3, -5, -5, -4, -3, -3, -1, 0, 7],\n",
    "                    [1, -3, 1, 0, -5, 5, -2, -3, -2, -4, -3, 0, 0, -1, -3, 1, 0, -1, -7, -5],\n",
    "                    [-1, -3, 1, 1, -2, -2, 6, -2, 0, -2, -2, 2, 0, 3, 2, -1, -1, -2, -3, 0],\n",
    "                    [-1, -2, -2, -2, 1, -3, -2, 5, -2, 2, 2, -2, -2, -2, -2, -1, 0, 4, -5, -1],\n",
    "                    [-1, -5, 0, 0, -5, -2, 0, -2, 5, -3, 0, 1, -1, 1, 3, 0, 0, -2, -3, -4],\n",
    "                    [-2, -6, -4, -3, 2, -4, -2, 2, -3, 6, 4, -3, -3, -2, -3, -3, -2, 2, -2, -1],\n",
    "                    [-1, -5, -3, -2, 0, -3, -2, 2, 0, 4, 6, -2, -2, -1, 0, -2, -1, 2, -4, -2],\n",
    "                    [0, -4, 2, 1, -3, 0, 2, -2, 1, -3, -2, 2, 0, 1, 0, 1, 0, -2, -4, -2],\n",
    "                    [1, -3, -1, -1, -5, 0, 0, -2, -1, -3, -2, 0, 6, 0, 0, 1, 0, -1, -6, -5],\n",
    "                    [0, -5, 2, 2, -5, -1, 3, -2, 1, -2, -1, 1, 0, 4, 1, -1, -1, -2, -5, -4],\n",
    "                    [-2, -4, -1, -1, -4, -3, 2, -2, 3, -3, 0, 0, 0, 1, 6, 0, -1, -2, 2, -4],\n",
    "                    [1, 0, 0, 0, -3, 1, -1, -1, 0, -3, -2, 1, 1, -1, 0, 2, 1, -1, -2, -3],\n",
    "                    [1, -2, 0, 0, -3, 0, -1, 0, 0, -2, -1, 0, 0, -1, -1, 1, 3, 0, -5, -3],\n",
    "                    [0, -2, -2, -2, -1, -1, -2, 4, -2, 2, 2, -2, -1, -2, -2, -1, 0, 4, -6, -2],\n",
    "                    [-6, -8, -7, -7, 0, -7, -3, -5, -3, -2, -4, -4, -6, -5, 2, -2, -5, -6, 17, 0],\n",
    "                    [-3, 0, -4, -4, 7, -5, 0, -1, -4, -1, -2, -2, -5, -4, -4, -3, -3, -2, 0, 10]]\n",
    "    \n",
    "    return score_matrix[letter_to_index[letter1]][letter_to_index[letter2]]\n",
    "    "
   ]
  },
  {
   "cell_type": "code",
   "execution_count": 2,
   "metadata": {},
   "outputs": [],
   "source": [
    "def get_alignment(string, direction_str, index, start):\n",
    "    arrow = '→' if index == 'i' else '↓'\n",
    "    alignment = ''\n",
    "    i = start\n",
    "    for arr in direction_str:\n",
    "        if arr == arrow:\n",
    "            alignment += '-'\n",
    "        else:\n",
    "            alignment += string[i]\n",
    "            i += 1\n",
    "    return alignment"
   ]
  },
  {
   "cell_type": "code",
   "execution_count": 10,
   "metadata": {},
   "outputs": [],
   "source": [
    "filename = 'rosalind_ba5f.txt'"
   ]
  },
  {
   "cell_type": "code",
   "execution_count": 11,
   "metadata": {},
   "outputs": [],
   "source": [
    "with open(filename) as file:\n",
    "    str_i = file.readline().rstrip()\n",
    "    str_j = file.readline().rstrip()"
   ]
  },
  {
   "cell_type": "code",
   "execution_count": 12,
   "metadata": {},
   "outputs": [],
   "source": [
    "n = len(str_i)\n",
    "m = len(str_j)\n",
    "sigma = 5\n",
    "path_matrix = [[0] * (m+1) for i in range(n+1)]\n",
    "direction_matrix = [['0'] * (m+1) for i in range(n+1)]"
   ]
  },
  {
   "cell_type": "code",
   "execution_count": 13,
   "metadata": {},
   "outputs": [],
   "source": [
    "end_i = n\n",
    "end_j = m\n",
    "for i in range(n+1):\n",
    "    for j in range(m+1):\n",
    "        if i == 0 and j == 0:\n",
    "            continue\n",
    "            \n",
    "        left = float('-inf')\n",
    "        up = float('-inf')\n",
    "        diag = float('-inf')\n",
    "        taxi = 0\n",
    "        \n",
    "        if i-1 >= 0 and j-1 >= 0:\n",
    "            diag = path_matrix[i-1][j-1] + get_score(str_i[i-1], str_j[j-1])\n",
    "        if j - 1 >= 0:\n",
    "            left = path_matrix[i][j-1] - sigma\n",
    "        if i - 1 >= 0:\n",
    "            up = path_matrix[i-1][j] - sigma                \n",
    "        \n",
    "        if left >= up and left >= diag and left >= taxi:\n",
    "            path_matrix[i][j] = left\n",
    "            direction_matrix[i][j] = 'l'\n",
    "        elif up >= left and up >= diag and up >= taxi:\n",
    "            path_matrix[i][j] = up\n",
    "            direction_matrix[i][j] = 'u'\n",
    "        elif diag >= left and diag >= up and diag >= taxi:\n",
    "            path_matrix[i][j] = diag\n",
    "            direction_matrix[i][j] = 'd'\n",
    "        else:\n",
    "            path_matrix[i][j] = taxi\n",
    "            direction_matrix[i][j] = 't'\n",
    "            \n",
    "        if i == n and j == m:\n",
    "            max_value = float('-inf')\n",
    "            end_ii, end_jj = 0, 0\n",
    "            for ii in range(n+1):\n",
    "                for jj in range(m+1):\n",
    "                    if path_matrix[ii][jj] > max_value:\n",
    "                        max_value = path_matrix[ii][jj]\n",
    "                        end_ii, end_jj = ii, jj\n",
    "            if max_value > left and max_value > up and max_value > diag:\n",
    "                end_i, end_j = end_ii, end_jj\n",
    "                path_matrix[i][j] = max_value"
   ]
  },
  {
   "cell_type": "code",
   "execution_count": 14,
   "metadata": {},
   "outputs": [],
   "source": [
    "direction_str = ''\n",
    "i, j = end_i, end_j\n",
    "while (i != 0 or j != 0):\n",
    "    if direction_matrix[i][j] == 'l':\n",
    "        j -= 1\n",
    "        direction_str += '→'\n",
    "    elif direction_matrix[i][j] == 'u':\n",
    "        i -= 1\n",
    "        direction_str += '↓'\n",
    "    elif direction_matrix[i][j] == 'd':\n",
    "        i -= 1\n",
    "        j -= 1\n",
    "        direction_str += '↘'\n",
    "    elif direction_matrix[i][j] == 't':\n",
    "        start_i = i\n",
    "        start_j = j\n",
    "        i, j = 0, 0\n",
    "        \n",
    "direction_str = direction_str[len(direction_str)::-1]"
   ]
  },
  {
   "cell_type": "code",
   "execution_count": 15,
   "metadata": {},
   "outputs": [],
   "source": [
    "score = path_matrix[n][m]\n",
    "alignment_i = get_alignment(str_i, direction_str, 'i' , start_i)\n",
    "alignment_j = get_alignment(str_j, direction_str, 'j', start_j)"
   ]
  },
  {
   "cell_type": "code",
   "execution_count": 16,
   "metadata": {
    "scrolled": false
   },
   "outputs": [
    {
     "name": "stdout",
     "output_type": "stream",
     "text": [
      "4098\n",
      "MTQ-NTPQQCGF-AAFYLQQHIHGSGWAHSSY-E-RIATVA-KDAGACSVHIQRIQN-HWFFLYVY-PVVSKNSWYTFSNCN--EEG--D-MNTYIVIYLRKEAIQPEGWPP-RAMRHTIQ-NIVPEEPPPTTLLECFEI-WRNVCDLIDIFFFQTIYEGNSYANKQVAPSLYR-HIRPER-CWIEYWIVMDRDVGTRMLNMLMWRR-KQGNMQNLNKWTMVKIINSSGYTANPQEYIATNCW--LYCSFCQWTHSWSDTHPHETFCLAHQQPYHRNDEQRVGLAFDGQIGSDCQQ-C-DQIKQR-VWSII---IAGPEF-QACESHDKWHRYLE-RNQ---PQHNDF-HGRW-VQQWPWN--CVSPKKNYWNRKFVMAIVINTADTGCTPYFAMLCTQHYLMKLWGRPYMLMLHAWHMC-IDNKQ-Y-C--VRNAGP-CCSPIN-D-QECWFRYHQAV-GGLG-CATLYGTLGNIRGHHQMY-YDQ-NS-RIGTECGRMCM-NA-QERKRRWVHVDKGGTLPAQKTHYIPVMNTYC-LTPSTTIVFYFWTMREDRSENTQTVIWPNTTVARIR-YRPTAWGARWY---YKG-VFIWHFRMIACGWIENRN-PAFFLVMIE-TKCS--M-K-HCTHQQERNWMTCSPWYREAGMGAIHCNIWH-LRMPNVWIT--VRC-PRRLF-CTYRNAMPIITQ-KRS-AP-MMSIQ-DTEPVF-W-WE-VWDS-AFNRYSSPM--MVQWVI-FKPKHDL--ME---GWARSGTGF-AA-ESMAKIKWVDMGA-LGQNWICVLLFHTNIHGTCKTRAYWMDEGIQMAPTGRWDVLKMARAPDVHPSVGN--WNKFQPQMLLCVTR--KS--FFFFFDHYDSQPDSFNAMQDRPCDQMHYILPPG-G-W----H----T-N-SRLICCSTCGKS-HWFMLAQHSRAMHKANNNIVSKKNSQKVPYCPYHCIMSWDLGYNRHFVRSDSVL-L---VGNKFFSIPTIATSLSKNKTCNCHQSLLYA---K--MPSWAPSSEYADPSWQDVQCTPNESVCIKVDNFRKWFDEHRDWHESTPWEEAPYCFHNDCWQMHPLVANTYGSGYYSTANSRLCVEEQLTDDYALFFTMKVAR--HMGGSRCNFRYMPNWSDH----NWKCWNYKFTNEQEWWAQVAVPCQLPLRRPFQDEKFDWEYHLAIQNNYYYRRSGDHKWPWGYTYNKMNKMISGHLFVQCKPDKHEVSFEGFWHLVFVLHQLTRG--SWIHDQSYTPLRCYFTEPNQTSANYVRPGNPYMSASVNVIMPFSMSTHPHISPLHWQRWKFILKIDERHLCLIYPGAQNVQDQNTMDLMPCPWEFIGYFMHQWCYTATNWHRQVLMHYAEVDGLCHSQASMRKWTYGDQWFRQCQEMGRPYFFMDCNIWIEQVKRWGSCLEEDEYYVIKPQPPVSKCPWNPAIWNTVESFFQWTLWNSVFRNDEQMTPAEWRWAGMKLWHAIVIEKPEPDGYHQAMGC-IKTKNRVFSFGYGTWLLKW---A---WSFYHE-NSPDYQNVKMREPMPWFIDQMSYIRKHASPEEQGVDIFPYFGFELPTMPYEIWLYPSMWEYSSDGFTNA-GIIQWWRLFYTTWKYESCEDGKVDDADRVHPCPECIHQCGGEHDIKLYWKIQDDHDCDIEVKINMCHCQVHSSVVNRHVGHGN-------HYKCIWQPFS--E-----VRCPMPRVSWDPCIFS-----G-EQWFEYVCPPFPWQQTSNFFDANPGDQNMPDYRGTICLRDSCNLIVKFMLAMFICGTKWGYTPLWWLKGKSHIVHSQHPIFWCMPNCPGYMVEMG--G---SEPDFYESNFNPQLPNYRIRGWKQVPYETCY-RA-PFQDQCWIMP-KTRPTETDMMVYCNNQMRDLYRSWKCTYNPEVERMYMFGASYCSKNRLGFRMSTSVQCDKHPDSDKDCFNQMMDIV---ETGDV--QMAFLSTMHTLLFQRGYIASPGQLHEQTMYSPANGVLN--VVKEMTVNPAEDVWGAIHFTSDLWKQWEHPACNC-QSVTFHMYLEINK-NMPYNEEMLAKNIW-NDRWEVMFK-QHGQGNNH-K-YDTFTHVFQFAIPEASSMPFQLCCLNHHKMYYYDICRSMMGGMEPSFREVILAWKLPIHIHSFQIAPNKAFEVHSMAFYMAPQ-DNDTIPITMTREVYPLKRKGWDRDDELVHCCYLCDQGDQATTYCTFGIRFQRKMAYQYTCKYCFIIWTTGFPKCSLWTKDMC-WSKMDYACIVPCQEWH-RGRWPLIWERLIDKQLTPVSKGPYILVEITFHGAFAHAKMCT-AMQD-NRFDKTCGA-DAMTRCTLGIHFFKVQHLFNGAVQ-FHPFLAIYHADWYDPF-KIYHGFPNVQHLW-IW-FTMGADMHMAVMKFYTGCAPWTKKEYKQSFVQPVVHDLMKAFSTYQTNMQPYMWQFTVSNDIMFF-NRTQAQFRKDGAFDETMWTYEAHAQEETHEMYHATQSCVVYHHPDFEQMDDQFVCGDFFGIMRGCTWHILSSY-LCCITSFSGRFVVFE-QGL-R-H-YYDWAYQGPKRL-M-FHV-VQYHLGRCIQYNMHSPWLRSEQPSKRPWQTCILQFHMQRYVPNVNWGDAYTDVGREHGMPFMAGGTDIVTFATQCIRIWV-CHGACNH-PKMSWLMFYYPGKHEMLHYAFWW-KDPQTHFIVPDGTSTNLVIITNCIQCFIS-SQIPNIKFKTPYD-PLNDYHKLWPTIMGLINAKLKMVCNPNGHFVLFQNKQHSQKPWPAWEMGQSWMMI-AKGIQPQLVTKFPAVKL-PQLWPFEDGTKMGRFTYWYYCGGCFMHAFHFQLYYAHKSLMWIAQYKIKID-SDYHDECP\n",
      "MVQLHEAHN-GINAGWYMQ--VHECVTPPCHYGEDHKASLPMKQNQKCQSFMIKPQDFHKHIPPPSDNLLRMYFWHNKGQCNICNDDHKETMSDKCVIYTKVDFVVGMCYHMFKRRRPHVGMQVVEMMTKAQSWV--FLLQWRMI-D-VQMGLCR--CDQYSY-RKLFLGCTHPCEVWDHMYCWNIF-NNLDREAGPPMTPTIPFRIASPPALLGYYR-TYSRHSHGLHYQPFSKQIVDKVVKDELFVK--KWWPDWWKADVNTALHGGHH-PLCGAVTQPATFPI-GTLCHNLDQWSTHHFASKDAWFFVEKHFQQKEIWKWCAT-TCWAHCPEAHNHMNDPTQDDASDGNWFINQ-TYDETC-DARMVYKPAR-DVDQA-QSKTPGPDKH-AMGITQ-YFDTIW----M---DNWPLCRVGQNQVYMCEYVRQRGTQSCVDKHYSFNRPW-KPENGRWKRWSECFG-YHCM--V-AWCSLCGWDPANGAKV-LDCNN-CLLKKLQEAHLCWM-ASKTNEM-VQM--F-EMTSG-CHLVH-MTVMYHI-Q-SNDKL--IHVFGWNTVKGMRPRSYSNGSFG-R-YVSEINDYMFIW--RLDQCKWHETRSLITRGLIMLTMVQCAYTLGDVHSVLMQGQI-VK-TP-HGSTALMPDH-SMSEALPVHECAITPDIRHHPNATYRCKF-DFMPGNTHISRTCQPDAFWFNLEITLVYKLCLDKANDNLSVTFFSKSMATLVFSTQHFRTKGELGNINYIMQWPPNSHDLMSGTESMAKI-WGRYAPSWVVYWICVLLFHNG--GTCKTRAYWMDEGIQMAPT--------ARCPDEHPSVGNHASNKFQPQMLLCVEMYNKTPRFFFFFDHYDSVPDSFNA-HG--CDQMHYIWPPGESHYFNCKHFQNPAEHNSRLICCSTCGKEKHS-R-AEYKRIWHKANK-IVSKKNSRKVPYCPYHCIM-WPAAWHMIDVRSDSVISTKKAVGNKFFSIPTKFIKNPHTKYPDRHQQLLYAAYGNYFMPSWAPHSEYADPSWQDVVC-R-ESVCIKVDNFRKWFDEHRDSHESTPWEEAPYCMPI-C-TNHP-TANS--R-L--MQE---CALF-FAGN-VMRYTMKVCWGLHMGMTECNFRYMPNWSDRRTIFNWKCWNYKFTNEQEWWAQVAVPCQLPLRRPFQRETNKKLFE-KFRWEYHLQQNHIQN-N-GF--NKMN-LDTDN---Q---DNVNGAINT-WE-VFVAHQLTREMYSWIHDQSYTPVRTYMT---QTSANYVRRGNPYMSAS----M--S--THPHISPLHWEGLK-AL--H-RE---D-PGA--FTE---FNLMDCPWEFIGYFM--W-------HRQVLMH--Q---LCHSQASMRKWTYGDQWFRQCQEDGRPYHFMDCNIWIEQVKRWGSCLEEDEYYVIKPQPPVSKLPWNPAIW---ESFFQWTLWNSVFRND-QFTPAEWRWAG-----AIVIEKPEPDGYHMAMGCYLKTKNRLFSFGYGTFLLKWCPQAIMAWSQRHEMHSPDYQNVKMREPMPWFIDQMSYIRKHASPEEQGVD--PYF-WH-Q---FEEWLYPSCWEYSYDMLDHNMDIFGGMRMNAGD-KLDDADRSSCE-S-W-HPCPECIHQCGGEHDIKLYWKIHPDHDC-IEV----C--QVHSSVVNRHVGNGKMTFQCEPHYKCIWQPFSHTDKYQPHVRCPMPKVSWDPCIFSHMPVMDIEQWFEYVCPPKP-KQ-SNFFDANPGDQNMPDYRG-----DS-H---NFMLATLICGTKWIYTPLWWLKGKSH--------FWCMPNCPYYMVEMGIMNPLLSEPTFFESNFNPQLKNYRIRGWKQVPYETCYLHAAPFQDQCQIMPFATRPTETDMDVYCNP-IRS--H-LQ-TYKPEVERMYMFGFSYCSKN---------VQCDKHPDTDKDCFNQMMDIPKGKETGMFWPQWAFLSTMHTLLFQRRFV--PA-LI--A--SP--GVLHENVVKEMTVNP--D-----HFTSDLW---EHPACNCIQCV---M-AKCNKCDIVCNNGAYHMMLWMKDN-PHMRRVNHGNTTEVVKWYLEFERT-RIMKMNSNEV-FNM---TE--VYIVP-C-CM-TQMENVHRDSAIG-K-PIDGHQFDMATCHC-G-QP--WFSNEQCKPQIDDKERGNGFFAL----YEPVDNTIEC-KE-NRVWQVSTGCP-E-RWVWHTNKE-EVRH-YKQ-KKAM--CTEW-RDTCDQAIMDHQ-II-CMCWQEKPDY-MYF-HM-NKT-ACICEARKI-DQDTHEGGCVHS-MNELELQQCHTVEPK-GSLIAYNKYSWG-DSYDGNDHYIGWKHWFDQTL-FFHV-WKALYCK-YET-PLNGEVWCIKHMVRSVDLHGKNSE-YR-CELRIDGS-NMS-GH-C-HK-SSG-TGFATS-RS--WD-PECTAPNFMCTWEHPTFMMDCC-HK--W--E----EQAR-M--V-KPIVV-HN-KW--IQTSL-CA-M-AKMN--LWMFISQHGL--MASM-GPLI-YEVRTHKRANCYYGMLYK-PKALKVHFWAWASDRQDQCVR-QKSIRMLR-ENAL--PFST-LLG-ALL-FTGLI-W---FWVI--D-VIPMMV----VMDF---YY--WLEYEAMTNNYARQ-WTT-NNPGMV-RLN-PFNWCK-VKGYFCVAAREPDREAILLD-HQSWMKVTRIYEHK-KGRFDVPMGICKK-W-ICMH-I--MFEFT-NA-A-YNS-DMSEH-QDQWVYSPKAQ-WFVQWNRYFKADII--FPS-SLEPEAWVGTEQRSI-WLSFVYIIGTC-K-GWEWTTPISH-AMMNTGDRRI-IGKSPLKIFCA\n"
     ]
    }
   ],
   "source": [
    "print(score)\n",
    "print(alignment_i)\n",
    "print(alignment_j)"
   ]
  }
 ],
 "metadata": {
  "kernelspec": {
   "display_name": "Python 3",
   "language": "python",
   "name": "python3"
  },
  "language_info": {
   "codemirror_mode": {
    "name": "ipython",
    "version": 3
   },
   "file_extension": ".py",
   "mimetype": "text/x-python",
   "name": "python",
   "nbconvert_exporter": "python",
   "pygments_lexer": "ipython3",
   "version": "3.8.3"
  }
 },
 "nbformat": 4,
 "nbformat_minor": 4
}
