{
 "cells": [
  {
   "cell_type": "code",
   "execution_count": 8,
   "metadata": {},
   "outputs": [],
   "source": [
    "class Peptide:\n",
    "    def __init__(self):\n",
    "        self.masses = []\n",
    "    \n",
    "    @property\n",
    "    def mass(self):\n",
    "        return sum(self.masses) \n",
    "        \n",
    "    @property\n",
    "    def spectrum(self):\n",
    "        sp = [0]\n",
    "        mses = self.masses.copy()[:-1]\n",
    "        n = len(self.masses)\n",
    "        for k in range(1, n):\n",
    "            mses.append(self.masses[(k-2)%n])\n",
    "            for i in range(len(mses)-k+1):\n",
    "                sp.append(sum(mses[i:i+k]))\n",
    "        sp.append(sum(self.masses))\n",
    "        sp.sort()\n",
    "        return sp\n",
    "    \n",
    "    def add(self, new_mass):\n",
    "        self.masses.append(new_mass)\n",
    "        return self\n",
    "        \n",
    "    def __str__(self):\n",
    "        string = ''\n",
    "        for m in self.masses:\n",
    "            string += str(m) + '-'\n",
    "        string = string[:-1]\n",
    "        return string\n",
    "    \n",
    "    def copy(self):\n",
    "        copy_pep = Peptide()\n",
    "        copy_pep.masses = self.masses.copy()\n",
    "        return copy_pep"
   ]
  },
  {
   "cell_type": "code",
   "execution_count": 9,
   "metadata": {},
   "outputs": [],
   "source": [
    "def masses_in_spectrum(spectrum):\n",
    "    masses = [57, 71, 87, 97, 99, 101, 103, 113, 114, 115, 128, 129, 131, 137, 147, 156, 163, 186]        \n",
    "    return [m for m in masses if m in spectrum]"
   ]
  },
  {
   "cell_type": "code",
   "execution_count": 10,
   "metadata": {},
   "outputs": [],
   "source": [
    "def expand(peptides, masses):\n",
    "    new_peptides = [peptide.copy().add(m) for m in masses for peptide in peptides]\n",
    "    return new_peptides"
   ]
  },
  {
   "cell_type": "code",
   "execution_count": 11,
   "metadata": {},
   "outputs": [],
   "source": [
    "def CyclopeptideSequencing(spectrum):\n",
    "    masses = masses_in_spectrum(spectrum)\n",
    "    peptides = [Peptide()]\n",
    "    while len(peptides) > 0:\n",
    "        peptides = expand(peptides, masses)\n",
    "        new_peptides = peptides.copy()\n",
    "        for peptide in peptides:\n",
    "            if peptide.mass == max(spectrum):\n",
    "                if peptide.spectrum == spectrum:\n",
    "                    print(peptide, end=' ')\n",
    "                new_peptides.remove(peptide)\n",
    "            elif peptide.mass not in spectrum:\n",
    "                new_peptides.remove(peptide)\n",
    "        peptides = new_peptides"
   ]
  },
  {
   "cell_type": "code",
   "execution_count": 12,
   "metadata": {},
   "outputs": [],
   "source": [
    "filename = 'rosalind_ba4e.txt'"
   ]
  },
  {
   "cell_type": "code",
   "execution_count": 13,
   "metadata": {},
   "outputs": [],
   "source": [
    "with open(filename) as file:\n",
    "    spectrum = [int(x) for x in file.readline().split()]"
   ]
  },
  {
   "cell_type": "code",
   "execution_count": 14,
   "metadata": {
    "scrolled": true
   },
   "outputs": [
    {
     "name": "stdout",
     "output_type": "stream",
     "text": [
      "101-103-87-131-147-163-97-71 97-163-147-131-87-103-101-71 131-147-163-97-71-101-103-87 103-101-71-97-163-147-131-87 163-147-131-87-103-101-71-97 71-101-103-87-131-147-163-97 103-87-131-147-163-97-71-101 71-97-163-147-131-87-103-101 101-71-97-163-147-131-87-103 87-131-147-163-97-71-101-103 147-163-97-71-101-103-87-131 87-103-101-71-97-163-147-131 163-97-71-101-103-87-131-147 131-87-103-101-71-97-163-147 147-131-87-103-101-71-97-163 97-71-101-103-87-131-147-163 "
     ]
    }
   ],
   "source": [
    "spectrum.sort()\n",
    "CyclopeptideSequencing(spectrum)"
   ]
  }
 ],
 "metadata": {
  "kernelspec": {
   "display_name": "Python 3",
   "language": "python",
   "name": "python3"
  },
  "language_info": {
   "codemirror_mode": {
    "name": "ipython",
    "version": 3
   },
   "file_extension": ".py",
   "mimetype": "text/x-python",
   "name": "python",
   "nbconvert_exporter": "python",
   "pygments_lexer": "ipython3",
   "version": "3.8.3"
  }
 },
 "nbformat": 4,
 "nbformat_minor": 4
}
