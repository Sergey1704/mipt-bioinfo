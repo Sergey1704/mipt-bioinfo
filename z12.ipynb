{
 "cells": [
  {
   "cell_type": "code",
   "execution_count": 1,
   "metadata": {},
   "outputs": [],
   "source": [
    "def create_graph_from_reads(reads):\n",
    "    graph = dict()\n",
    "    for read in reads:\n",
    "        graph[read[1:]] = []\n",
    "        graph[read[:-1]] = []\n",
    "        \n",
    "    for read in reads:\n",
    "        graph[read[:-1]].append(read[1:])\n",
    "    \n",
    "    return graph"
   ]
  },
  {
   "cell_type": "code",
   "execution_count": 2,
   "metadata": {},
   "outputs": [],
   "source": [
    "def is_edge_in_cycle(cycle, node1, node2):\n",
    "    for i in range(len(cycle) - 1):\n",
    "        if cycle[i] == node1 and cycle[i+1] == node2:\n",
    "            return True\n",
    "        \n",
    "    return False        "
   ]
  },
  {
   "cell_type": "code",
   "execution_count": 3,
   "metadata": {},
   "outputs": [],
   "source": [
    "def next_node(graph, cycle, node):\n",
    "    for next_nd in graph[node]:\n",
    "        if not is_edge_in_cycle(cycle, node, next_nd):\n",
    "            return next_nd\n",
    "        \n",
    "    return None"
   ]
  },
  {
   "cell_type": "code",
   "execution_count": 4,
   "metadata": {},
   "outputs": [],
   "source": [
    "def find_new_start_node(graph, cycle):\n",
    "    for node in cycle:\n",
    "        next_nd = next_node(graph, cycle, node)\n",
    "        if next_nd != None:\n",
    "            return node\n",
    "            \n",
    "    return None"
   ]
  },
  {
   "cell_type": "code",
   "execution_count": 5,
   "metadata": {},
   "outputs": [],
   "source": [
    "def remake_cycle(cycle, new_start_node):\n",
    "    pos = 0\n",
    "    for i, node in enumerate(cycle):\n",
    "        if node == new_start_node:\n",
    "            pos = i\n",
    "    \n",
    "    new_cycle = cycle[pos:] + cycle[1:pos+1]\n",
    "    \n",
    "    return new_cycle"
   ]
  },
  {
   "cell_type": "code",
   "execution_count": 6,
   "metadata": {},
   "outputs": [],
   "source": [
    "def make_string(kmers):\n",
    "    string = kmers[0][:-1]\n",
    "    for kmer in kmers:\n",
    "        string += kmer[-1]\n",
    "    \n",
    "    return string"
   ]
  },
  {
   "cell_type": "code",
   "execution_count": 7,
   "metadata": {
    "scrolled": false
   },
   "outputs": [],
   "source": [
    "filename = 'input.txt'"
   ]
  },
  {
   "cell_type": "code",
   "execution_count": 8,
   "metadata": {
    "scrolled": true
   },
   "outputs": [],
   "source": [
    "with open(filename) as file:\n",
    "    k = int(file.readline())"
   ]
  },
  {
   "cell_type": "code",
   "execution_count": 9,
   "metadata": {},
   "outputs": [],
   "source": [
    "reads = []\n",
    "for number in range(2**k):\n",
    "    reads.append('{0:0{1}b}'.format(number, k))"
   ]
  },
  {
   "cell_type": "code",
   "execution_count": 10,
   "metadata": {},
   "outputs": [],
   "source": [
    "graph = create_graph_from_reads(reads)\n",
    "cycle = [list(graph.keys())[0]]"
   ]
  },
  {
   "cell_type": "code",
   "execution_count": 11,
   "metadata": {},
   "outputs": [],
   "source": [
    "while find_new_start_node(graph, cycle) != None:    \n",
    "    new_start_node = find_new_start_node(graph, cycle)\n",
    "    cycle = remake_cycle(cycle, new_start_node)\n",
    "\n",
    "    while next_node(graph, cycle, cycle[-1]) != None:\n",
    "        cycle.append(next_node(graph, cycle, cycle[-1]))"
   ]
  },
  {
   "cell_type": "code",
   "execution_count": 12,
   "metadata": {},
   "outputs": [],
   "source": [
    "kmers = cycle[:1-k]\n",
    "answer = make_string(kmers)"
   ]
  },
  {
   "cell_type": "code",
   "execution_count": 13,
   "metadata": {
    "scrolled": true
   },
   "outputs": [
    {
     "name": "stdout",
     "output_type": "stream",
     "text": [
      "11111111011111110011111101011111100011111011011111010011111001011111000011110111011110110011110101011110100011110011011110010011110001011110000011101110011101101011101100011101011011101010011101001011101000011100110011100101011100100011100011011100010011100001011100000011011011010011011001011011000011010110011010101011010100011010010011010001011010000011001100011001010011001001011001000011000101011000100011000010011000001011000000010101010010101000010100100010100010010100000010010010000010001000010000000001\n"
     ]
    }
   ],
   "source": [
    "print(answer)"
   ]
  }
 ],
 "metadata": {
  "kernelspec": {
   "display_name": "Python 3",
   "language": "python",
   "name": "python3"
  },
  "language_info": {
   "codemirror_mode": {
    "name": "ipython",
    "version": 3
   },
   "file_extension": ".py",
   "mimetype": "text/x-python",
   "name": "python",
   "nbconvert_exporter": "python",
   "pygments_lexer": "ipython3",
   "version": "3.8.3"
  }
 },
 "nbformat": 4,
 "nbformat_minor": 4
}
