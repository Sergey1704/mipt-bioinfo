{
 "cells": [
  {
   "cell_type": "code",
   "execution_count": 171,
   "metadata": {},
   "outputs": [],
   "source": [
    "text = 'ATTGTGTACGATCAAGATGGATCAAGATGGCTGTTGAACGAACCAGTCGAACCAGTCGATCAAGATGGCTGTTGAACGATCAAGATGGCTGTTGAACGAACCAGTCGATCAAGATGGCTGTTGAACGCGCTGCAACGCTGTTGAACGATTGTGTACGATCAAGATGGCTGTTGAACGATCAAGATGGCGCTGCAACGAACCAGTCGATCAAGATGGCTGTTGAACGCGCTGCAACGCGCTGCAACGCGCTGCAACGATTGTGTACGAACCAGTCGCTGTTGAACGATTGTGTACGAACCAGTCGCTGTTGAACGCGCTGCAACGCTGTTGAACGATCAAGATGGAACCAGTCGATCAAGATGGATTGTGTACGCTGTTGAACGCGCTGCAACGCGCTGCAACGATTGTGTACGCTGTTGAACGCGCTGCAACGCTGTTGAACGCGCTGCAACGAACCAGTCGAACCAGTCGATTGTGTACGATCAAGATGGATCAAGATGGCTGTTGAACGATTGTGTACGAACCAGTCGAACCAGTCGCTGTTGAACGCGCTGCAACGAACCAGTCGATTGTGTACGATCAAGATGGATTGTGTACGAACCAGTCGCGCTGCAACGCTGTTGAACGATCAAGATGGCGCTGCAACGATCAAGATGGCTGTTGAACGCGCTGCAACGCTGTTGAACGCTGTTGAACGATTGTGTACGATCAAGATGGATCAAGATGGAACCAGTCGATCAAGATGGAACCAGTCGCTGTTGAACGATTGTGTACGCGCTGCAACGCGCTGCAACGATTGTGTACGAACCAGTCGATCAAGATGGCGCTGCAACGCTGTTGAACGATTGTGTACGCTGTTGAACGCGCTGCAACGAACCAGTCGAACCAGTCGAACCAGTCGCGCTGCAACGATCAAGATGGATTGTGTACG'\n",
    "k = 7\n",
    "d = 2"
   ]
  },
  {
   "cell_type": "code",
   "execution_count": 172,
   "metadata": {},
   "outputs": [],
   "source": [
    "from collections import Counter\n",
    "appear_freq = Counter()\n",
    "neighbours = set()\n",
    "\n",
    "letters = ['A', 'C', 'G', 'T']"
   ]
  },
  {
   "cell_type": "code",
   "execution_count": 173,
   "metadata": {},
   "outputs": [],
   "source": [
    "def count_neighbours(pattern, d, pos):\n",
    "    neighbours.add(pattern)\n",
    "    \n",
    "    if (d == 0) or (pos == k): return \n",
    "    \n",
    "    current_letter = pattern[pos]\n",
    "    for letter in letters:\n",
    "        new_d = d\n",
    "        if letter != current_letter: new_d -= 1\n",
    "            \n",
    "        count_neighbours(pattern[:pos] + letter + pattern[pos+1:], new_d, pos+1)"
   ]
  },
  {
   "cell_type": "code",
   "execution_count": 174,
   "metadata": {},
   "outputs": [],
   "source": [
    "for i in range(len(text)-k+1):\n",
    "    neighbours.clear()\n",
    "    count_neighbours(text[i:i+k], d, 0)\n",
    "    appear_freq += Counter(neighbours)"
   ]
  },
  {
   "cell_type": "code",
   "execution_count": 175,
   "metadata": {},
   "outputs": [
    {
     "name": "stdout",
     "output_type": "stream",
     "text": [
      "GATCGAG "
     ]
    }
   ],
   "source": [
    "most_freq = appear_freq.most_common(1)[0][1]\n",
    "for pattern in appear_freq:\n",
    "    if appear_freq[pattern] == most_freq:\n",
    "        print(pattern, end = ' ')"
   ]
  },
  {
   "cell_type": "code",
   "execution_count": null,
   "metadata": {},
   "outputs": [],
   "source": []
  }
 ],
 "metadata": {
  "kernelspec": {
   "display_name": "Python 3",
   "language": "python",
   "name": "python3"
  },
  "language_info": {
   "codemirror_mode": {
    "name": "ipython",
    "version": 3
   },
   "file_extension": ".py",
   "mimetype": "text/x-python",
   "name": "python",
   "nbconvert_exporter": "python",
   "pygments_lexer": "ipython3",
   "version": "3.8.3"
  }
 },
 "nbformat": 4,
 "nbformat_minor": 4
}
