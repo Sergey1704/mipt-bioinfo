{
 "cells": [
  {
   "cell_type": "code",
   "execution_count": 16,
   "metadata": {},
   "outputs": [],
   "source": [
    "filename = 'rosalind_ba5b.txt'"
   ]
  },
  {
   "cell_type": "code",
   "execution_count": 17,
   "metadata": {},
   "outputs": [],
   "source": [
    "with open(filename) as file:\n",
    "    n, m = [int(x) for x in file.readline().split()]\n",
    "    down = []\n",
    "    for i in range(n):\n",
    "        down.append([int(x) for x in file.readline().split()])\n",
    "    file.readline()\n",
    "    right = []\n",
    "    for i in range(n+1):\n",
    "        right.append([int(x) for x in file.readline().split()])"
   ]
  },
  {
   "cell_type": "code",
   "execution_count": 18,
   "metadata": {},
   "outputs": [],
   "source": [
    "path_matrix = [[0] * (m+1) for i in range(n+1)]"
   ]
  },
  {
   "cell_type": "code",
   "execution_count": 19,
   "metadata": {},
   "outputs": [],
   "source": [
    "for i in range(n+1):\n",
    "    for j in range(m+1):\n",
    "        if i == 0 and j == 0:\n",
    "            continue\n",
    "        left = 0\n",
    "        if j - 1 >= 0:\n",
    "            left = path_matrix[i][j-1] + right[i][j-1]\n",
    "        up = 0\n",
    "        if i - 1 >= 0:\n",
    "            up = path_matrix[i-1][j] + down[i-1][j]\n",
    "        path_matrix[i][j] = max(left, up)"
   ]
  },
  {
   "cell_type": "code",
   "execution_count": 20,
   "metadata": {},
   "outputs": [
    {
     "name": "stdout",
     "output_type": "stream",
     "text": [
      "81\n"
     ]
    }
   ],
   "source": [
    "print(path_matrix[n][m])"
   ]
  }
 ],
 "metadata": {
  "kernelspec": {
   "display_name": "Python 3",
   "language": "python",
   "name": "python3"
  },
  "language_info": {
   "codemirror_mode": {
    "name": "ipython",
    "version": 3
   },
   "file_extension": ".py",
   "mimetype": "text/x-python",
   "name": "python",
   "nbconvert_exporter": "python",
   "pygments_lexer": "ipython3",
   "version": "3.8.3"
  }
 },
 "nbformat": 4,
 "nbformat_minor": 4
}
