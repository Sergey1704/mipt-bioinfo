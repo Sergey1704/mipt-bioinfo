{
 "cells": [
  {
   "cell_type": "code",
   "execution_count": 1,
   "metadata": {},
   "outputs": [],
   "source": [
    "def reverse_complement(pattern):\n",
    "    compl = {'A': 'T', 'C': 'G', 'G': 'C', 'T': 'A'}\n",
    "    array_pattern = list(pattern)\n",
    "    for i in range(len(array_pattern)):\n",
    "        array_pattern[i] = compl[array_pattern[i]]\n",
    "    array_pattern.reverse()\n",
    "    \n",
    "    return ''.join(array_pattern)"
   ]
  },
  {
   "cell_type": "code",
   "execution_count": 2,
   "metadata": {},
   "outputs": [],
   "source": [
    "bases = \"TCAG\"\n",
    "codons = [a + b + c for a in bases for b in bases for c in bases]\n",
    "amino_acids = 'FFLLSSSSYY**CC*WLLLLPPPPHHQQRRRRIIIMTTTTNNKKSSRRVVVVAAAADDEEGGGG'\n",
    "codon_table = dict(zip(codons, amino_acids))"
   ]
  },
  {
   "cell_type": "code",
   "execution_count": 3,
   "metadata": {},
   "outputs": [],
   "source": [
    "def is_equal(kmer, peptide):\n",
    "    if len(kmer) % 3 != 0: \n",
    "        raise KeyError('Invalid kmer size')\n",
    "    \n",
    "    for i in range(len(kmer) // 3):\n",
    "        if codon_table[kmer[3*i:3*i+3]] != peptide[i]:\n",
    "            return False\n",
    "        \n",
    "    return True"
   ]
  },
  {
   "cell_type": "code",
   "execution_count": 4,
   "metadata": {},
   "outputs": [],
   "source": [
    "filename = 'rosalind_ba4b.txt'"
   ]
  },
  {
   "cell_type": "code",
   "execution_count": 5,
   "metadata": {},
   "outputs": [],
   "source": [
    "with open(filename) as file:\n",
    "    dna = file.readline().rstrip()\n",
    "    peptide = file.readline().rstrip()"
   ]
  },
  {
   "cell_type": "code",
   "execution_count": 6,
   "metadata": {},
   "outputs": [
    {
     "name": "stdout",
     "output_type": "stream",
     "text": [
      "GATAAGTGCGAGTGCTTCGATTTCGGGGAA\n",
      "GACAAATGCGAGTGTTTCGATTTCGGCGAA\n",
      "TTCACCGAAATCAAAGCACTCGCATTTATC\n",
      "GACAAGTGTGAATGTTTCGACTTCGGTGAA\n",
      "TTCGCCAAAGTCAAAGCATTCACACTTGTC\n",
      "CTCCCCAAAATCGAAACACTCACACTTGTC\n",
      "GACAAATGTGAGTGTTTCGACTTCGGCGAG\n",
      "GACAAATGCGAGTGCTTCGATTTCGGGGAG\n",
      "GACAAGTGCGAGTGTTTTGACTTCGGAGAA\n",
      "GACAAATGTGAGTGCTTTGACTTCGGGGAA\n",
      "GATAAATGCGAGTGCTTTGATTTCGGAGAA\n",
      "GATAAATGTGAGTGTTTTGATTTCGGGGAG\n",
      "GATAAATGTGAATGTTTTGACTTCGGAGAG\n",
      "GATAAATGCGAATGTTTTGATTTCGGAGAA\n",
      "CTCGCCAAAATCAAAGCACTCACACTTGTC\n",
      "TTCTCCGAAGTCGAAGCACTCGCATTTGTC\n",
      "GATAAGTGCGAGTGTTTCGATTTTGGCGAG\n",
      "CTCTCCAAAGTCAAAGCACTCGCATTTATC\n",
      "TTCCCCAAAATCAAAGCACTCGCATTTGTC\n",
      "CTCGCCAAAATCGAAACATTCGCACTTGTC\n"
     ]
    }
   ],
   "source": [
    "k = 3 * len(peptide)\n",
    "\n",
    "for i in range(len(dna)-k+1):\n",
    "    kmer = dna[i:i+k]\n",
    "    if is_equal(kmer, peptide) or is_equal(reverse_complement(kmer), peptide):\n",
    "        print(kmer)"
   ]
  }
 ],
 "metadata": {
  "kernelspec": {
   "display_name": "Python 3",
   "language": "python",
   "name": "python3"
  },
  "language_info": {
   "codemirror_mode": {
    "name": "ipython",
    "version": 3
   },
   "file_extension": ".py",
   "mimetype": "text/x-python",
   "name": "python",
   "nbconvert_exporter": "python",
   "pygments_lexer": "ipython3",
   "version": "3.8.3"
  }
 },
 "nbformat": 4,
 "nbformat_minor": 4
}
