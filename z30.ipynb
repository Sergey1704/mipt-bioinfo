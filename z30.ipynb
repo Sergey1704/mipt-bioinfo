{
 "cells": [
  {
   "cell_type": "code",
   "execution_count": 1,
   "metadata": {},
   "outputs": [],
   "source": [
    "def print_sequence(sequence):\n",
    "    result_str = '('\n",
    "    for elem in sequence:\n",
    "        if elem > 0:\n",
    "            result_str += '+' + str(elem) + ' '\n",
    "        else:\n",
    "            result_str += str(elem) + ' '\n",
    "            \n",
    "    result_str = result_str[:-1] + ')'\n",
    "    print(result_str, end=' ')"
   ]
  },
  {
   "cell_type": "code",
   "execution_count": 2,
   "metadata": {},
   "outputs": [],
   "source": [
    "def print_genome(genome):\n",
    "    for block in genome:\n",
    "        print_sequence(block)"
   ]
  },
  {
   "cell_type": "code",
   "execution_count": 3,
   "metadata": {},
   "outputs": [],
   "source": [
    "def ChromosomeToCycle(chromosome):\n",
    "    cycle = []\n",
    "    for elem in chromosome:\n",
    "        if elem > 0:\n",
    "            cycle.append(2*elem - 1)\n",
    "            cycle.append(2*elem)\n",
    "        else:\n",
    "            cycle.append(-2*elem)\n",
    "            cycle.append(-2*elem - 1)\n",
    "    return cycle"
   ]
  },
  {
   "cell_type": "code",
   "execution_count": 4,
   "metadata": {},
   "outputs": [],
   "source": [
    "def CycleToChromosome(cycle):\n",
    "    chromosome = []\n",
    "    for i in range(len(cycle) // 2):\n",
    "        if cycle[2*i] < cycle[2*i + 1]:\n",
    "            chromosome.append(cycle[2*i + 1] // 2)\n",
    "        else:\n",
    "            chromosome.append(-(cycle[2*i] // 2))\n",
    "            \n",
    "    return chromosome"
   ]
  },
  {
   "cell_type": "code",
   "execution_count": 5,
   "metadata": {},
   "outputs": [],
   "source": [
    "def ColoredEdges(genome):\n",
    "    edges = []\n",
    "    for chromosome in genome:\n",
    "        nodes = ChromosomeToCycle(chromosome)\n",
    "        \n",
    "        for i in range(1, len(chromosome) + 1):\n",
    "            edges.append((nodes[(2*i - 1)%len(nodes)], nodes[(2*i)%len(nodes)]))\n",
    "            \n",
    "    return edges"
   ]
  },
  {
   "cell_type": "code",
   "execution_count": 6,
   "metadata": {},
   "outputs": [],
   "source": [
    "def GraphToGenome(graph):\n",
    "    genome = []\n",
    "    \n",
    "    while graph:\n",
    "        num = graph[0][0]\n",
    "        nodes = []\n",
    "        while True:\n",
    "            found = False\n",
    "            \n",
    "            for elem in graph:\n",
    "                if num in elem:\n",
    "                    nodes.append(num)\n",
    "                    nodes.append(elem[0]) if elem[0] != num else nodes.append(elem[1])\n",
    "                    graph.remove(elem)\n",
    "                    found = True\n",
    "                    break\n",
    "                \n",
    "            if not found:\n",
    "                chromosome = CycleToChromosome(nodes[-1:] + nodes[:-1])\n",
    "                genome.append(chromosome)\n",
    "                break\n",
    "                \n",
    "            if nodes[-1] % 2 == 0:\n",
    "                num = nodes[-1] - 1\n",
    "            else:\n",
    "                num = nodes[-1] + 1 \n",
    "   \n",
    "    return genome"
   ]
  },
  {
   "cell_type": "code",
   "execution_count": 7,
   "metadata": {},
   "outputs": [],
   "source": [
    "def BreakOnGenomeGraph(graph, i1 , i2 , i3 , i4):\n",
    "    if (i1, i2) in graph: \n",
    "        graph.remove((i1, i2))\n",
    "    else:\n",
    "        graph.remove((i2, i1))\n",
    "    if (i3, i4) in graph: \n",
    "        graph.remove((i3, i4))\n",
    "    else:\n",
    "        graph.remove((i4, i3))\n",
    "    \n",
    "    graph.append((i1, i3))\n",
    "    graph.append((i2, i4))\n",
    "    \n",
    "    return graph"
   ]
  },
  {
   "cell_type": "code",
   "execution_count": 8,
   "metadata": {},
   "outputs": [],
   "source": [
    "def BreakOnGenome(genome, i1 , i2 , i3 , i4):\n",
    "    graph = ColoredEdges(genome)\n",
    "    graph = BreakOnGenomeGraph(graph, i1 , i2 , i3 , i4)\n",
    "    genome = GraphToGenome(graph)\n",
    "    \n",
    "    return genome"
   ]
  },
  {
   "cell_type": "code",
   "execution_count": 9,
   "metadata": {},
   "outputs": [],
   "source": [
    "filename = 'rosalind_ba6k.txt'"
   ]
  },
  {
   "cell_type": "code",
   "execution_count": 10,
   "metadata": {},
   "outputs": [],
   "source": [
    "with open(filename) as file:\n",
    "    string = file.readline().rstrip()\n",
    "    str_seq = string.replace('(', '').replace(')', '').split()\n",
    "    genome = [int(number) for number in str_seq]\n",
    "    i1, i2, i3, i4 = tuple(map(int, file.readline().rstrip().split(', ')))"
   ]
  },
  {
   "cell_type": "code",
   "execution_count": 11,
   "metadata": {
    "scrolled": false
   },
   "outputs": [],
   "source": [
    "genome = [genome]\n",
    "genome = BreakOnGenome(genome, i1 , i2 , i3 , i4)"
   ]
  },
  {
   "cell_type": "code",
   "execution_count": 12,
   "metadata": {},
   "outputs": [
    {
     "name": "stdout",
     "output_type": "stream",
     "text": [
      "(-1 -2 +3 -53 +52 +51 +50 -49 -48 +47 +46 +45 -44 +43 -42 -41 +40 -39 +38 -37 -36 +35 +34 -33 -32 +31 -30 +29 +28 +27 +26 -25 +24 +23 -22 -21 -20 -19 -18 +17 +16 -15 +14 -13 -12 +11 -10 +9 +8 -7 +6 -5 -4 +54 +55 -56 +57 -58 -59 -60 -61 -62 -63 +64 -65) "
     ]
    }
   ],
   "source": [
    "print_genome(genome)"
   ]
  }
 ],
 "metadata": {
  "kernelspec": {
   "display_name": "Python 3",
   "language": "python",
   "name": "python3"
  },
  "language_info": {
   "codemirror_mode": {
    "name": "ipython",
    "version": 3
   },
   "file_extension": ".py",
   "mimetype": "text/x-python",
   "name": "python",
   "nbconvert_exporter": "python",
   "pygments_lexer": "ipython3",
   "version": "3.8.3"
  }
 },
 "nbformat": 4,
 "nbformat_minor": 4
}
